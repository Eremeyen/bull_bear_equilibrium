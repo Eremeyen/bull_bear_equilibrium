{
 "cells": [
  {
   "cell_type": "code",
   "execution_count": 2,
   "metadata": {},
   "outputs": [
    {
     "data": {
      "text/plain": [
       "array([21, 23, 32, 52], dtype=int64)"
      ]
     },
     "execution_count": 2,
     "metadata": {},
     "output_type": "execute_result"
    }
   ],
   "source": [
    "import pandas as pd\n",
    "import numpy as np\n",
    "\n",
    "df = pd.DataFrame(\n",
    "\t[[21, 72, 67],\n",
    "\t[23, 78, 69],\n",
    "\t[32, 74, 56],\n",
    "\t[52, 54, 76]],\n",
    "\tcolumns=['a', 'b', 'c'])\n",
    "np_arr = df[\"a\"].to_numpy()\n",
    "np_arr"
   ]
  }
 ],
 "metadata": {
  "language_info": {
   "name": "python"
  },
  "orig_nbformat": 4
 },
 "nbformat": 4,
 "nbformat_minor": 2
}
