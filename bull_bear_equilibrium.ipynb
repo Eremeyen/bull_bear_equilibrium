{
 "cells": [
  {
   "cell_type": "markdown",
   "metadata": {},
   "source": [
    "<h1 style=\"color: red\"> Notes </h1>\n",
    "ideas:\n",
    "<br>\n",
    "- clustering gradients and band percentages\n",
    "<br>\n",
    "- situation 1: equilibrium, (upper - lower) / lower *100 < x=10\n",
    "<br>\n",
    "- situation 2: bullish, (upper-lower) / lower *100 > x=10 && price > middle\n",
    "<br>\n",
    "- situation 3: bearish, (upper - lower) / lower *100 > x=10 && price < middle\n",
    "<br>\n",
    "- plot return of situation's group of candles\n"
   ]
  },
  {
   "cell_type": "markdown",
   "metadata": {},
   "source": [
    "new ideas:\n",
    "<li>\n",
    "plot percentage return of bullish/bearish periods\n",
    "</li>\n",
    "<li>\n",
    "plot candles of bullish/bearish periods\n",
    "</li>\n",
    "to-do:\n",
    "<li>\n",
    "try different data: btc on different time frames\n",
    "</li>\n"
   ]
  },
  {
   "cell_type": "markdown",
   "metadata": {},
   "source": [
    "to-do:\n",
    "<li>plot returns of bull/bear periods</li>\n",
    "<li>cluster 3d data</li>\n",
    "<li>add stock market function</li>"
   ]
  },
  {
   "cell_type": "markdown",
   "metadata": {},
   "source": [
    "<h1 style=\"color: red\">Imports</h1>"
   ]
  },
  {
   "cell_type": "code",
   "execution_count": 1,
   "metadata": {},
   "outputs": [],
   "source": [
    "#making necessary imports and configuring APIs\n",
    "import pandas as pd\n",
    "import ta\n",
    "import numpy as np\n",
    "import matplotlib.pyplot as plt\n",
    "import yfinance as yf\n",
    "from mpl_toolkits import mplot3d\n",
    "from dotenv import load_dotenv\n",
    "from binance.client import Client\n",
    "import csv\n",
    "import os\n",
    "\n",
    "load_dotenv()\n",
    "b_key = os.getenv(\"BinanceAPI_Key\")\n",
    "b_secret = os.getenv(\"BinanceAPI_Secret\")\n",
    "client = Client(b_key,b_secret)\n"
   ]
  },
  {
   "cell_type": "markdown",
   "metadata": {},
   "source": [
    "<h1 style=\"color: red\">Dataframe Manipulation Functions</h1>"
   ]
  },
  {
   "cell_type": "code",
   "execution_count": 2,
   "metadata": {},
   "outputs": [],
   "source": [
    "#adding bollinger indicators to df\n",
    "def bollinger(df):\n",
    "    df[\"bollinger high band\"] = ta.volatility.bollinger_hband(df.Close)\n",
    "    df[\"bollinger low band\"] = ta.volatility.bollinger_lband(df.Close)\n",
    "    df[\"bollinger middle band\"] = ta.volatility.bollinger_mavg(df.Close)\n",
    "    df[\"band width\"] = ta.volatility.bollinger_wband(df.Close)\n",
    "    #adding high and low band slope into data frame\n",
    "    high_grad_array = np.gradient(df[\"bollinger high band\"])\n",
    "    low_grad_array = np.gradient(df[\"bollinger low band\"])\n",
    "    df[\"bollinger high gradient\"] = high_grad_array\n",
    "    df[\"bollinger low gradient\"] = low_grad_array\n",
    "    #adding bollinger band percentage into dataframe\n",
    "    df[\"bollinger band percentage\"] = (df[\"bollinger high band\"] - df[\"bollinger low band\"]) / df[\"bollinger low band\"] *100"
   ]
  },
  {
   "cell_type": "code",
   "execution_count": 3,
   "metadata": {},
   "outputs": [],
   "source": [
    "#extracts market condition from the rows\n",
    "#band percentage < %10 --> equilibrium, if not Close > middle --> bull, if not Close < middle --> bear\n",
    "def extract_market_condition(row):\n",
    "    if(row[\"bollinger band percentage\"] < 10):\n",
    "        return 0\n",
    "    elif(row[\"Close\"] > row[\"bollinger middle band\"]):\n",
    "        return 1\n",
    "    else:\n",
    "        return -1\n",
    "#applying condition function to the dataframe\n",
    "def add_condition_df(df):\n",
    "    df[\"condition\"] = df.apply(lambda row: extract_market_condition(row), axis=1)\n",
    "#adding the candle percentage return into the dataframe\n",
    "def add_candle_return_df(df):\n",
    "    df[\"candle return\"] = (df[\"Close\"] - df[\"Open\"])/df[\"Open\"]*100"
   ]
  },
  {
   "cell_type": "markdown",
   "metadata": {},
   "source": [
    "<h1 style=\"color: red\"> Fetching Data </h1>"
   ]
  },
  {
   "cell_type": "code",
   "execution_count": 4,
   "metadata": {},
   "outputs": [
    {
     "name": "stdout",
     "output_type": "stream",
     "text": [
      "[*********************100%***********************]  1 of 1 completed\n"
     ]
    }
   ],
   "source": [
    "df = yf.download(\"AAPL\",start=\"2017-01-01\")\n",
    "df = df[[\"Open\",\"High\",\"Low\",\"Close\"]]"
   ]
  },
  {
   "cell_type": "code",
   "execution_count": 5,
   "metadata": {},
   "outputs": [],
   "source": [
    "#to-do: fetch btc price data for all intervals\n",
    "#daily in 3 month intervals\n",
    "#4 hours in 1 month intervals\n",
    "#1 hour in weekly intervals\n",
    "#15 minute in 3 day intervals\n",
    "#5 min\n",
    "#1 min\n",
    "\n",
    "#right now bollinger indicators and a few other columns are added by default. This could be changed in the future.\n",
    "def fetch_daily_binance_data():\n",
    "    candles = client.get_historical_klines(\"BTCUSDT\",Client.KLINE_INTERVAL_1DAY,\"1 Jan, 2017\", \"1 July, 2022\")\n",
    "    col = [\"Date\", \"Open\", \"High\", \"Low\", \"Close\"]\n",
    "    ret_df = pd.DataFrame(candles)\n",
    "    ret_df = ret_df[[0,1,2,3,4]]\n",
    "    ret_df.columns = col\n",
    "    ret_df[\"Date\"] = pd.to_datetime(ret_df[\"Date\"], unit=\"ms\")\n",
    "    ret_df.set_index(\"Date\",inplace=True)\n",
    "    ret_df = ret_df.astype(float)\n",
    "    add_candle_return_df(ret_df)\n",
    "    bollinger(ret_df)\n",
    "    add_condition_df(ret_df)\n",
    "    return ret_df\n",
    "def fetch_fourhour_binance_data():\n",
    "    candles = client.get_historical_klines(\"BTCUSDT\",Client.KLINE_INTERVAL_4HOUR,\"1 Jan, 2017\", \"1 July, 2022\")\n",
    "    col = [\"Date\", \"Open\", \"High\", \"Low\", \"Close\"]\n",
    "    ret_df = pd.DataFrame(candles)\n",
    "    ret_df = ret_df[[0,1,2,3,4]]\n",
    "    ret_df.columns = col\n",
    "    ret_df[\"Date\"] = pd.to_datetime(ret_df[\"Date\"], unit=\"ms\")\n",
    "    ret_df.set_index(\"Date\",inplace=True)\n",
    "    ret_df = ret_df.astype(float)\n",
    "    add_candle_return_df(ret_df)\n",
    "    bollinger(ret_df)\n",
    "    add_condition_df(ret_df)\n",
    "    return ret_df\n",
    "def fetch_1hour_binance_data():\n",
    "    candles = client.get_historical_klines(\"BTCUSDT\",Client.KLINE_INTERVAL_1HOUR,\"1 Jan, 2017\", \"1 July, 2022\")\n",
    "    col = [\"Date\", \"Open\", \"High\", \"Low\", \"Close\"]\n",
    "    ret_df = pd.DataFrame(candles)\n",
    "    ret_df = ret_df[[0,1,2,3,4]]\n",
    "    ret_df.columns = col\n",
    "    ret_df[\"Date\"] = pd.to_datetime(ret_df[\"Date\"], unit=\"ms\")\n",
    "    ret_df.set_index(\"Date\",inplace=True)\n",
    "    ret_df = ret_df.astype(float)\n",
    "    add_candle_return_df(ret_df)\n",
    "    bollinger(ret_df)\n",
    "    add_condition_df(ret_df)\n",
    "    return ret_df\n",
    "def fetch_15min_binance_data():\n",
    "    candles = client.get_historical_klines(\"BTCUSDT\",Client.KLINE_INTERVAL_15MINUTE,\"1 Jan, 2017\", \"1 July, 2022\")\n",
    "    col = [\"Date\", \"Open\", \"High\", \"Low\", \"Close\"]\n",
    "    ret_df = pd.DataFrame(candles)\n",
    "    ret_df = ret_df[[0,1,2,3,4]]\n",
    "    ret_df.columns = col\n",
    "    ret_df[\"Date\"] = pd.to_datetime(ret_df[\"Date\"], unit=\"ms\")\n",
    "    ret_df.set_index(\"Date\",inplace=True)\n",
    "    ret_df = ret_df.astype(float)\n",
    "    add_candle_return_df(ret_df)\n",
    "    bollinger(ret_df)\n",
    "    add_condition_df(ret_df)\n",
    "    return ret_df\n",
    "def fetch_5min_binance_data():\n",
    "    candles = client.get_historical_klines(\"BTCUSDT\",Client.KLINE_INTERVAL_5MINUTE,\"1 Jan, 2017\", \"1 July, 2022\")\n",
    "    col = [\"Date\", \"Open\", \"High\", \"Low\", \"Close\"]\n",
    "    ret_df = pd.DataFrame(candles)\n",
    "    ret_df = ret_df[[0,1,2,3,4]]\n",
    "    ret_df.columns = col\n",
    "    ret_df[\"Date\"] = pd.to_datetime(ret_df[\"Date\"], unit=\"ms\")\n",
    "    ret_df.set_index(\"Date\",inplace=True)\n",
    "    ret_df = ret_df.astype(float)\n",
    "    add_candle_return_df(ret_df)\n",
    "    bollinger(ret_df)\n",
    "    add_condition_df(ret_df)\n",
    "    return ret_df\n",
    "def fetch_1min_binance_data():\n",
    "    candles = client.get_historical_klines(\"BTCUSDT\",Client.KLINE_INTERVAL_1MINUTE,\"1 Jan, 2017\", \"1 July, 2022\")\n",
    "    col = [\"Date\", \"Open\", \"High\", \"Low\", \"Close\"]\n",
    "    ret_df = pd.DataFrame(candles)\n",
    "    ret_df = ret_df[[0,1,2,3,4]]\n",
    "    ret_df.columns = col\n",
    "    ret_df[\"Date\"] = pd.to_datetime(ret_df[\"Date\"], unit=\"ms\")\n",
    "    ret_df.set_index(\"Date\",inplace=True)\n",
    "    ret_df = ret_df.astype(float)\n",
    "    add_candle_return_df(ret_df)\n",
    "    bollinger(ret_df)\n",
    "    add_condition_df(ret_df)\n",
    "    return ret_df\n",
    "#fetch_daily_binance_data()"
   ]
  },
  {
   "cell_type": "markdown",
   "metadata": {},
   "source": [
    "<h1 style=\"color: red\"> Plotting </h1>"
   ]
  },
  {
   "cell_type": "code",
   "execution_count": 6,
   "metadata": {},
   "outputs": [],
   "source": [
    "#plotting bollinger band percentage against bollinger high band gradient\n",
    "#this cell may not be useful\n",
    "def plot_bandpercent_highgrad(df):\n",
    "    plt.clf()\n",
    "    percentage_array = df[\"bollinger band percentage\"].tolist()\n",
    "    count = 0\n",
    "    gradient_array = df[\"bollinger high gradient\"].tolist()\n",
    "    plt.title(\"band p vs. high grad\")\n",
    "    plt.xlabel(\"gradient\")\n",
    "    plt.scatter(gradient_array,percentage_array,c=\"blue\")\n"
   ]
  },
  {
   "cell_type": "code",
   "execution_count": 7,
   "metadata": {},
   "outputs": [],
   "source": [
    "#plotting gradients and band percentages\n",
    "def plot_gradients_percentage_3d(df):\n",
    "    plt.clf()\n",
    "    fig = plt.figure()\n",
    "    ax = plt.axes(projection='3d')\n",
    "    x = df[\"bollinger low gradient\"]\n",
    "    y = df[\"bollinger high gradient\"]\n",
    "    z = df[\"bollinger band percentage\"]\n",
    "    ax.scatter(x, y, z, c=z, cmap='viridis', linewidth=0.5)"
   ]
  },
  {
   "cell_type": "code",
   "execution_count": 8,
   "metadata": {},
   "outputs": [],
   "source": [
    "#plotting the price closes versus the market condition\n",
    "def plot_close_condition(df):\n",
    "    plt.clf()\n",
    "    fig, axs = plt.subplots(2)\n",
    "    fig.suptitle('price close vs. condition')\n",
    "    axs[0].plot(df[\"Close\"])\n",
    "    axs[1].plot(df[\"condition\"])"
   ]
  },
  {
   "cell_type": "code",
   "execution_count": 9,
   "metadata": {},
   "outputs": [],
   "source": [
    "#plotting candle percentage and market condition in bar chart\n",
    "def bar_plot_condition(row):\n",
    "    \n",
    "    if(row[\"condition\"] == 1):\n",
    "        plt.bar(row[\"Date\"],row[\"candle return\"],color=\"green\")\n",
    "    elif(row[\"condition\"] == 0):\n",
    "        plt.bar(row[\"Date\"],row[\"candle return\"],color=\"blue\")\n",
    "    else:\n",
    "        plt.bar(row[\"Date\"],row[\"candle return\"],color=\"red\")\n",
    "#this function receives a dataframe as input but here's a technicality:\n",
    "#you need to convert the dataframe indexed by dates into a csv file, and then into a dataframe again\n",
    "#so that the dataframe isn't indexed anymore. there might be a better way to do this but sue me\n",
    "#better way: input is df.reset_index()\n",
    "def plot_candle_condition(df):\n",
    "    plt.clf()\n",
    "    df_without_index = df.reset_index()\n",
    "    df_without_index.apply(lambda row: bar_plot_condition(row),axis=1)"
   ]
  },
  {
   "cell_type": "markdown",
   "metadata": {},
   "source": [
    "<h1 style=\"color: red\"> Testing/Applying </h1>"
   ]
  },
  {
   "cell_type": "markdown",
   "metadata": {},
   "source": [
    "<h3>how to gather data</h3>\n",
    "<li>initialize binance data by calling the data fetcher functions </li>\n",
    "<li>initialize stock data by using yfinance</li>\n",
    "<li>there are three plotting functions, you can call all of them by passing the data frame into the functions. (use plot_candle_condition() not bar_plot_condition()) </li>\n",
    "<li>initialize a smaller sample of data by using the .loc[] function. pass [\"starting date\":\"ending date\"] as parameter </li>\n"
   ]
  },
  {
   "cell_type": "code",
   "execution_count": 10,
   "metadata": {},
   "outputs": [],
   "source": [
    "df_test = fetch_daily_binance_data()"
   ]
  },
  {
   "cell_type": "code",
   "execution_count": 11,
   "metadata": {},
   "outputs": [
    {
     "data": {
      "text/html": [
       "<div>\n",
       "<style scoped>\n",
       "    .dataframe tbody tr th:only-of-type {\n",
       "        vertical-align: middle;\n",
       "    }\n",
       "\n",
       "    .dataframe tbody tr th {\n",
       "        vertical-align: top;\n",
       "    }\n",
       "\n",
       "    .dataframe thead th {\n",
       "        text-align: right;\n",
       "    }\n",
       "</style>\n",
       "<table border=\"1\" class=\"dataframe\">\n",
       "  <thead>\n",
       "    <tr style=\"text-align: right;\">\n",
       "      <th></th>\n",
       "      <th>Open</th>\n",
       "      <th>High</th>\n",
       "      <th>Low</th>\n",
       "      <th>Close</th>\n",
       "      <th>candle return</th>\n",
       "      <th>bollinger high band</th>\n",
       "      <th>bollinger low band</th>\n",
       "      <th>bollinger middle band</th>\n",
       "      <th>band width</th>\n",
       "      <th>bollinger high gradient</th>\n",
       "      <th>bollinger low gradient</th>\n",
       "      <th>bollinger band percentage</th>\n",
       "      <th>condition</th>\n",
       "    </tr>\n",
       "    <tr>\n",
       "      <th>Date</th>\n",
       "      <th></th>\n",
       "      <th></th>\n",
       "      <th></th>\n",
       "      <th></th>\n",
       "      <th></th>\n",
       "      <th></th>\n",
       "      <th></th>\n",
       "      <th></th>\n",
       "      <th></th>\n",
       "      <th></th>\n",
       "      <th></th>\n",
       "      <th></th>\n",
       "      <th></th>\n",
       "    </tr>\n",
       "  </thead>\n",
       "  <tbody>\n",
       "    <tr>\n",
       "      <th>2021-01-01</th>\n",
       "      <td>28923.63</td>\n",
       "      <td>29600.00</td>\n",
       "      <td>28624.57</td>\n",
       "      <td>29331.69</td>\n",
       "      <td>1.410819</td>\n",
       "      <td>30357.813096</td>\n",
       "      <td>18138.887904</td>\n",
       "      <td>24248.3505</td>\n",
       "      <td>50.390748</td>\n",
       "      <td>829.238182</td>\n",
       "      <td>347.078818</td>\n",
       "      <td>67.363144</td>\n",
       "      <td>1</td>\n",
       "    </tr>\n",
       "    <tr>\n",
       "      <th>2021-01-02</th>\n",
       "      <td>29331.70</td>\n",
       "      <td>33300.00</td>\n",
       "      <td>28946.53</td>\n",
       "      <td>32178.33</td>\n",
       "      <td>9.704961</td>\n",
       "      <td>31460.817579</td>\n",
       "      <td>18336.217421</td>\n",
       "      <td>24898.5175</td>\n",
       "      <td>52.712376</td>\n",
       "      <td>1076.814324</td>\n",
       "      <td>259.698176</td>\n",
       "      <td>71.577468</td>\n",
       "      <td>1</td>\n",
       "    </tr>\n",
       "    <tr>\n",
       "      <th>2021-01-03</th>\n",
       "      <td>32176.45</td>\n",
       "      <td>34778.11</td>\n",
       "      <td>31962.99</td>\n",
       "      <td>33000.05</td>\n",
       "      <td>2.559636</td>\n",
       "      <td>32511.441745</td>\n",
       "      <td>18658.284255</td>\n",
       "      <td>25584.8630</td>\n",
       "      <td>54.145912</td>\n",
       "      <td>804.489553</td>\n",
       "      <td>509.969947</td>\n",
       "      <td>74.246685</td>\n",
       "      <td>1</td>\n",
       "    </tr>\n",
       "    <tr>\n",
       "      <th>2021-01-04</th>\n",
       "      <td>33000.05</td>\n",
       "      <td>33600.00</td>\n",
       "      <td>28130.00</td>\n",
       "      <td>31988.71</td>\n",
       "      <td>-3.064662</td>\n",
       "      <td>33069.796686</td>\n",
       "      <td>19356.157314</td>\n",
       "      <td>26212.9770</td>\n",
       "      <td>52.316222</td>\n",
       "      <td>793.712701</td>\n",
       "      <td>465.101799</td>\n",
       "      <td>70.848977</td>\n",
       "      <td>1</td>\n",
       "    </tr>\n",
       "    <tr>\n",
       "      <th>2021-01-05</th>\n",
       "      <td>31989.75</td>\n",
       "      <td>34360.00</td>\n",
       "      <td>29900.00</td>\n",
       "      <td>33949.53</td>\n",
       "      <td>6.126275</td>\n",
       "      <td>34098.867148</td>\n",
       "      <td>19588.487852</td>\n",
       "      <td>26843.6775</td>\n",
       "      <td>54.055110</td>\n",
       "      <td>1332.418223</td>\n",
       "      <td>-3.107723</td>\n",
       "      <td>74.076056</td>\n",
       "      <td>1</td>\n",
       "    </tr>\n",
       "    <tr>\n",
       "      <th>...</th>\n",
       "      <td>...</td>\n",
       "      <td>...</td>\n",
       "      <td>...</td>\n",
       "      <td>...</td>\n",
       "      <td>...</td>\n",
       "      <td>...</td>\n",
       "      <td>...</td>\n",
       "      <td>...</td>\n",
       "      <td>...</td>\n",
       "      <td>...</td>\n",
       "      <td>...</td>\n",
       "      <td>...</td>\n",
       "      <td>...</td>\n",
       "    </tr>\n",
       "    <tr>\n",
       "      <th>2021-12-28</th>\n",
       "      <td>50701.44</td>\n",
       "      <td>50704.05</td>\n",
       "      <td>47313.01</td>\n",
       "      <td>47543.74</td>\n",
       "      <td>-6.228028</td>\n",
       "      <td>51696.877814</td>\n",
       "      <td>45382.288186</td>\n",
       "      <td>48539.5830</td>\n",
       "      <td>13.009155</td>\n",
       "      <td>-85.599752</td>\n",
       "      <td>-114.819248</td>\n",
       "      <td>13.914216</td>\n",
       "      <td>-1</td>\n",
       "    </tr>\n",
       "    <tr>\n",
       "      <th>2021-12-29</th>\n",
       "      <td>47543.74</td>\n",
       "      <td>48139.08</td>\n",
       "      <td>46096.99</td>\n",
       "      <td>46464.66</td>\n",
       "      <td>-2.269657</td>\n",
       "      <td>51744.414086</td>\n",
       "      <td>45226.658914</td>\n",
       "      <td>48485.5365</td>\n",
       "      <td>13.442679</td>\n",
       "      <td>24.093636</td>\n",
       "      <td>-79.123636</td>\n",
       "      <td>14.411313</td>\n",
       "      <td>-1</td>\n",
       "    </tr>\n",
       "    <tr>\n",
       "      <th>2021-12-30</th>\n",
       "      <td>46464.66</td>\n",
       "      <td>47900.00</td>\n",
       "      <td>45900.00</td>\n",
       "      <td>47120.87</td>\n",
       "      <td>1.412278</td>\n",
       "      <td>51745.065087</td>\n",
       "      <td>45224.040913</td>\n",
       "      <td>48484.5530</td>\n",
       "      <td>13.449694</td>\n",
       "      <td>-21.454067</td>\n",
       "      <td>-138.182433</td>\n",
       "      <td>14.419375</td>\n",
       "      <td>-1</td>\n",
       "    </tr>\n",
       "    <tr>\n",
       "      <th>2021-12-31</th>\n",
       "      <td>47120.88</td>\n",
       "      <td>48548.26</td>\n",
       "      <td>45678.00</td>\n",
       "      <td>46216.93</td>\n",
       "      <td>-1.918364</td>\n",
       "      <td>51701.505953</td>\n",
       "      <td>44950.294047</td>\n",
       "      <td>48325.9000</td>\n",
       "      <td>13.970173</td>\n",
       "      <td>-123.482937</td>\n",
       "      <td>-151.732563</td>\n",
       "      <td>15.019283</td>\n",
       "      <td>-1</td>\n",
       "    </tr>\n",
       "    <tr>\n",
       "      <th>2022-01-01</th>\n",
       "      <td>46216.93</td>\n",
       "      <td>47954.63</td>\n",
       "      <td>46208.37</td>\n",
       "      <td>47722.65</td>\n",
       "      <td>3.257940</td>\n",
       "      <td>51498.099212</td>\n",
       "      <td>44920.575788</td>\n",
       "      <td>48209.3375</td>\n",
       "      <td>13.643671</td>\n",
       "      <td>-109.074945</td>\n",
       "      <td>21.683945</td>\n",
       "      <td>14.642563</td>\n",
       "      <td>-1</td>\n",
       "    </tr>\n",
       "  </tbody>\n",
       "</table>\n",
       "<p>366 rows × 13 columns</p>\n",
       "</div>"
      ],
      "text/plain": [
       "                Open      High       Low     Close  candle return  \\\n",
       "Date                                                                \n",
       "2021-01-01  28923.63  29600.00  28624.57  29331.69       1.410819   \n",
       "2021-01-02  29331.70  33300.00  28946.53  32178.33       9.704961   \n",
       "2021-01-03  32176.45  34778.11  31962.99  33000.05       2.559636   \n",
       "2021-01-04  33000.05  33600.00  28130.00  31988.71      -3.064662   \n",
       "2021-01-05  31989.75  34360.00  29900.00  33949.53       6.126275   \n",
       "...              ...       ...       ...       ...            ...   \n",
       "2021-12-28  50701.44  50704.05  47313.01  47543.74      -6.228028   \n",
       "2021-12-29  47543.74  48139.08  46096.99  46464.66      -2.269657   \n",
       "2021-12-30  46464.66  47900.00  45900.00  47120.87       1.412278   \n",
       "2021-12-31  47120.88  48548.26  45678.00  46216.93      -1.918364   \n",
       "2022-01-01  46216.93  47954.63  46208.37  47722.65       3.257940   \n",
       "\n",
       "            bollinger high band  bollinger low band  bollinger middle band  \\\n",
       "Date                                                                         \n",
       "2021-01-01         30357.813096        18138.887904             24248.3505   \n",
       "2021-01-02         31460.817579        18336.217421             24898.5175   \n",
       "2021-01-03         32511.441745        18658.284255             25584.8630   \n",
       "2021-01-04         33069.796686        19356.157314             26212.9770   \n",
       "2021-01-05         34098.867148        19588.487852             26843.6775   \n",
       "...                         ...                 ...                    ...   \n",
       "2021-12-28         51696.877814        45382.288186             48539.5830   \n",
       "2021-12-29         51744.414086        45226.658914             48485.5365   \n",
       "2021-12-30         51745.065087        45224.040913             48484.5530   \n",
       "2021-12-31         51701.505953        44950.294047             48325.9000   \n",
       "2022-01-01         51498.099212        44920.575788             48209.3375   \n",
       "\n",
       "            band width  bollinger high gradient  bollinger low gradient  \\\n",
       "Date                                                                      \n",
       "2021-01-01   50.390748               829.238182              347.078818   \n",
       "2021-01-02   52.712376              1076.814324              259.698176   \n",
       "2021-01-03   54.145912               804.489553              509.969947   \n",
       "2021-01-04   52.316222               793.712701              465.101799   \n",
       "2021-01-05   54.055110              1332.418223               -3.107723   \n",
       "...                ...                      ...                     ...   \n",
       "2021-12-28   13.009155               -85.599752             -114.819248   \n",
       "2021-12-29   13.442679                24.093636              -79.123636   \n",
       "2021-12-30   13.449694               -21.454067             -138.182433   \n",
       "2021-12-31   13.970173              -123.482937             -151.732563   \n",
       "2022-01-01   13.643671              -109.074945               21.683945   \n",
       "\n",
       "            bollinger band percentage  condition  \n",
       "Date                                              \n",
       "2021-01-01                  67.363144          1  \n",
       "2021-01-02                  71.577468          1  \n",
       "2021-01-03                  74.246685          1  \n",
       "2021-01-04                  70.848977          1  \n",
       "2021-01-05                  74.076056          1  \n",
       "...                               ...        ...  \n",
       "2021-12-28                  13.914216         -1  \n",
       "2021-12-29                  14.411313         -1  \n",
       "2021-12-30                  14.419375         -1  \n",
       "2021-12-31                  15.019283         -1  \n",
       "2022-01-01                  14.642563         -1  \n",
       "\n",
       "[366 rows x 13 columns]"
      ]
     },
     "execution_count": 11,
     "metadata": {},
     "output_type": "execute_result"
    }
   ],
   "source": [
    "df_test_smaller = df_test.loc[\"2020-01-01\":\"2021-01-01\"]\n",
    "df_test_smaller"
   ]
  },
  {
   "cell_type": "code",
   "execution_count": 12,
   "metadata": {},
   "outputs": [
    {
     "data": {
      "image/png": "[encoded data removed]",
      "text/plain": [
       "<Figure size 432x288 with 1 Axes>"
      ]
     },
     "metadata": {
      "needs_background": "light"
     },
     "output_type": "display_data"
    }
   ],
   "source": [
    "plot_bandpercent_highgrad(df_test_smaller)"
   ]
  },
  {
   "cell_type": "code",
   "execution_count": 13,
   "metadata": {},
   "outputs": [
    {
     "data": {
      "image/png": "[encoded data removed]",
      "text/plain": [
       "<Figure size 432x288 with 1 Axes>"
      ]
     },
     "metadata": {
      "needs_background": "light"
     },
     "output_type": "display_data"
    }
   ],
   "source": [
    "plot_candle_condition(df_test_smaller)"
   ]
  },
  {
   "cell_type": "code",
   "execution_count": 14,
   "metadata": {},
   "outputs": [
    {
     "data": {
      "text/plain": [
       "<Figure size 432x288 with 0 Axes>"
      ]
     },
     "metadata": {},
     "output_type": "display_data"
    },
    {
     "data": {
      "image/png": "[encoded data removed]",
      "text/plain": [
       "<Figure size 432x288 with 1 Axes>"
      ]
     },
     "metadata": {
      "needs_background": "light"
     },
     "output_type": "display_data"
    }
   ],
   "source": [
    "plot_gradients_percentage_3d(df_test_smaller)"
   ]
  },
  {
   "cell_type": "code",
   "execution_count": 15,
   "metadata": {},
   "outputs": [
    {
     "data": {
      "text/plain": [
       "<Figure size 432x288 with 0 Axes>"
      ]
     },
     "metadata": {},
     "output_type": "display_data"
    },
    {
     "data": {
      "image/png": "[encoded data removed]",
      "text/plain": [
       "<Figure size 432x288 with 2 Axes>"
      ]
     },
     "metadata": {
      "needs_background": "light"
     },
     "output_type": "display_data"
    }
   ],
   "source": [
    "plot_close_condition(df_test_smaller)"
   ]
  }
 ],
 "metadata": {
  "kernelspec": {
   "display_name": "Python 3.10.2 64-bit",
   "language": "python",
   "name": "python3"
  },
  "language_info": {
   "codemirror_mode": {
    "name": "ipython",
    "version": 3
   },
   "file_extension": ".py",
   "mimetype": "text/x-python",
   "name": "python",
   "nbconvert_exporter": "python",
   "pygments_lexer": "ipython3",
   "version": "3.10.2"
  },
  "orig_nbformat": 4,
  "vscode": {
   "interpreter": {
    "hash": "56448e655ed5d95789a2e6ea92153f0105532ee26cb5123f88d24b87d15ee80a"
   }
  }
 },
 "nbformat": 4,
 "nbformat_minor": 2
}
