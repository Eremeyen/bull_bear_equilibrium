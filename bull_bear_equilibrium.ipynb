{
 "cells": [
  {
   "cell_type": "markdown",
   "metadata": {},
   "source": [
    "<h1 style=\"color: red\"> Notes </h1>\n",
    "ideas:\n",
    "<br>\n",
    "- clustering gradients and band percentages\n",
    "<br>\n",
    "- situation 1: equilibrium, (upper - lower) / lower *100 < x=10\n",
    "<br>\n",
    "- situation 2: bullish, (upper-lower) / lower *100 > x=10 && price > middle\n",
    "<br>\n",
    "- situation 3: bearish, (upper - lower) / lower *100 > x=10 && price < middle\n",
    "<br>\n",
    "- plot return of situation's group of candles\n"
   ]
  },
  {
   "cell_type": "markdown",
   "metadata": {},
   "source": [
    "new ideas:\n",
    "<li>\n",
    "plot percentage return of bullish/bearish periods\n",
    "</li>\n",
    "<li>\n",
    "plot candles of bullish/bearish periods\n",
    "</li>\n",
    "to-do:\n",
    "<li>\n",
    "try different data: btc on different time frames\n",
    "</li>\n"
   ]
  },
  {
   "cell_type": "markdown",
   "metadata": {},
   "source": [
    "to-do:\n",
    "<li>plot returns of bull/bear periods</li>\n",
    "<li>cluster 3d data</li>\n",
    "<li>add stock market function</li>"
   ]
  },
  {
   "cell_type": "markdown",
   "metadata": {},
   "source": [
    "<h1 style=\"color: red\">Imports</h1>"
   ]
  },
  {
   "cell_type": "code",
   "execution_count": 2,
   "metadata": {},
   "outputs": [],
   "source": [
    "#making necessary imports and configuring APIs\n",
    "import pandas as pd\n",
    "import ta\n",
    "import numpy as np\n",
    "import matplotlib.pyplot as plt\n",
    "import yfinance as yf\n",
    "from mpl_toolkits import mplot3d\n",
    "from dotenv import load_dotenv\n",
    "from binance.client import Client\n",
    "import csv\n",
    "import os\n",
    "\n",
    "load_dotenv()\n",
    "b_key = os.getenv(\"BinanceAPI_Key\")\n",
    "b_secret = os.getenv(\"BinanceAPI_Secret\")\n",
    "client = Client(b_key,b_secret)\n"
   ]
  },
  {
   "cell_type": "markdown",
   "metadata": {},
   "source": [
    "<h1 style=\"color: red\">Dataframe Manipulation Functions</h1>"
   ]
  },
  {
   "cell_type": "code",
   "execution_count": 3,
   "metadata": {},
   "outputs": [],
   "source": [
    "#adding bollinger indicators to df\n",
    "def bollinger(df):\n",
    "    df[\"bollinger high band\"] = ta.volatility.bollinger_hband(df.Close)\n",
    "    df[\"bollinger low band\"] = ta.volatility.bollinger_lband(df.Close)\n",
    "    df[\"bollinger middle band\"] = ta.volatility.bollinger_mavg(df.Close)\n",
    "    df[\"band width\"] = ta.volatility.bollinger_wband(df.Close)\n",
    "    #adding high and low band slope into data frame\n",
    "    high_grad_array = np.gradient(df[\"bollinger high band\"])\n",
    "    low_grad_array = np.gradient(df[\"bollinger low band\"])\n",
    "    df[\"bollinger high gradient\"] = high_grad_array\n",
    "    df[\"bollinger low gradient\"] = low_grad_array\n",
    "    #adding bollinger band percentage into dataframe\n",
    "    df[\"bollinger band percentage\"] = (df[\"bollinger high band\"] - df[\"bollinger low band\"]) / df[\"bollinger low band\"] *100"
   ]
  },
  {
   "cell_type": "code",
   "execution_count": 4,
   "metadata": {},
   "outputs": [],
   "source": [
    "#extracts market condition from the rows\n",
    "#band percentage < %10 --> equilibrium, if not Close > middle --> bull, if not Close < middle --> bear\n",
    "def extract_market_condition(row):\n",
    "    if(row[\"bollinger band percentage\"] < 10):\n",
    "        return 0\n",
    "    elif(row[\"Close\"] > row[\"bollinger middle band\"]):\n",
    "        return 1\n",
    "    else:\n",
    "        return -1\n",
    "#applying condition function to the dataframe\n",
    "def add_condition_df(df):\n",
    "    df[\"condition\"] = df.apply(lambda row: extract_market_condition(row), axis=1)\n",
    "#adding the candle percentage return into the dataframe\n",
    "def add_candle_return_df(df):\n",
    "    df[\"candle return\"] = (df[\"Close\"] - df[\"Open\"])/df[\"Open\"]*100"
   ]
  },
  {
   "cell_type": "markdown",
   "metadata": {},
   "source": [
    "<h1 style=\"color: red\"> Fetching Data </h1>"
   ]
  },
  {
   "cell_type": "code",
   "execution_count": 5,
   "metadata": {},
   "outputs": [
    {
     "name": "stdout",
     "output_type": "stream",
     "text": [
      "[*********************100%***********************]  1 of 1 completed\n"
     ]
    }
   ],
   "source": [
    "df = yf.download(\"AAPL\",start=\"2017-01-01\")\n",
    "df = df[[\"Open\",\"High\",\"Low\",\"Close\"]]"
   ]
  },
  {
   "cell_type": "code",
   "execution_count": 6,
   "metadata": {},
   "outputs": [],
   "source": [
    "#to-do: fetch btc price data for all intervals\n",
    "#daily in 3 month intervals\n",
    "#4 hours in 1 month intervals\n",
    "#1 hour in weekly intervals\n",
    "#15 minute in 3 day intervals\n",
    "#5 min\n",
    "#1 min\n",
    "\n",
    "#right now bollinger indicators and a few other columns are added by default. This could be changed in the future.\n",
    "def fetch_daily_binance_data():\n",
    "    candles = client.get_historical_klines(\"BTCUSDT\",Client.KLINE_INTERVAL_1DAY,\"1 Jan, 2017\", \"1 July, 2022\")\n",
    "    col = [\"Date\", \"Open\", \"High\", \"Low\", \"Close\"]\n",
    "    ret_df = pd.DataFrame(candles)\n",
    "    ret_df = ret_df[[0,1,2,3,4]]\n",
    "    ret_df.columns = col\n",
    "    ret_df[\"Date\"] = pd.to_datetime(ret_df[\"Date\"], unit=\"ms\")\n",
    "    ret_df.set_index(\"Date\",inplace=True)\n",
    "    ret_df = ret_df.astype(float)\n",
    "    add_candle_return_df(ret_df)\n",
    "    bollinger(ret_df)\n",
    "    add_condition_df(ret_df)\n",
    "    return ret_df\n",
    "def fetch_fourhour_binance_data():\n",
    "    candles = client.get_historical_klines(\"BTCUSDT\",Client.KLINE_INTERVAL_4HOUR,\"1 Jan, 2017\", \"1 July, 2022\")\n",
    "    col = [\"Date\", \"Open\", \"High\", \"Low\", \"Close\"]\n",
    "    ret_df = pd.DataFrame(candles)\n",
    "    ret_df = ret_df[[0,1,2,3,4]]\n",
    "    ret_df.columns = col\n",
    "    ret_df[\"Date\"] = pd.to_datetime(ret_df[\"Date\"], unit=\"ms\")\n",
    "    ret_df.set_index(\"Date\",inplace=True)\n",
    "    ret_df = ret_df.astype(float)\n",
    "    add_candle_return_df(ret_df)\n",
    "    bollinger(ret_df)\n",
    "    add_condition_df(ret_df)\n",
    "    return ret_df\n",
    "def fetch_1hour_binance_data():\n",
    "    candles = client.get_historical_klines(\"BTCUSDT\",Client.KLINE_INTERVAL_1HOUR,\"1 Jan, 2017\", \"1 July, 2022\")\n",
    "    col = [\"Date\", \"Open\", \"High\", \"Low\", \"Close\"]\n",
    "    ret_df = pd.DataFrame(candles)\n",
    "    ret_df = ret_df[[0,1,2,3,4]]\n",
    "    ret_df.columns = col\n",
    "    ret_df[\"Date\"] = pd.to_datetime(ret_df[\"Date\"], unit=\"ms\")\n",
    "    ret_df.set_index(\"Date\",inplace=True)\n",
    "    ret_df = ret_df.astype(float)\n",
    "    add_candle_return_df(ret_df)\n",
    "    bollinger(ret_df)\n",
    "    add_condition_df(ret_df)\n",
    "    return ret_df\n",
    "def fetch_15min_binance_data():\n",
    "    candles = client.get_historical_klines(\"BTCUSDT\",Client.KLINE_INTERVAL_15MINUTE,\"1 Jan, 2017\", \"1 July, 2022\")\n",
    "    col = [\"Date\", \"Open\", \"High\", \"Low\", \"Close\"]\n",
    "    ret_df = pd.DataFrame(candles)\n",
    "    ret_df = ret_df[[0,1,2,3,4]]\n",
    "    ret_df.columns = col\n",
    "    ret_df[\"Date\"] = pd.to_datetime(ret_df[\"Date\"], unit=\"ms\")\n",
    "    ret_df.set_index(\"Date\",inplace=True)\n",
    "    ret_df = ret_df.astype(float)\n",
    "    add_candle_return_df(ret_df)\n",
    "    bollinger(ret_df)\n",
    "    add_condition_df(ret_df)\n",
    "    return ret_df\n",
    "def fetch_5min_binance_data():\n",
    "    candles = client.get_historical_klines(\"BTCUSDT\",Client.KLINE_INTERVAL_5MINUTE,\"1 Jan, 2017\", \"1 July, 2022\")\n",
    "    col = [\"Date\", \"Open\", \"High\", \"Low\", \"Close\"]\n",
    "    ret_df = pd.DataFrame(candles)\n",
    "    ret_df = ret_df[[0,1,2,3,4]]\n",
    "    ret_df.columns = col\n",
    "    ret_df[\"Date\"] = pd.to_datetime(ret_df[\"Date\"], unit=\"ms\")\n",
    "    ret_df.set_index(\"Date\",inplace=True)\n",
    "    ret_df = ret_df.astype(float)\n",
    "    add_candle_return_df(ret_df)\n",
    "    bollinger(ret_df)\n",
    "    add_condition_df(ret_df)\n",
    "    return ret_df\n",
    "def fetch_1min_binance_data():\n",
    "    candles = client.get_historical_klines(\"BTCUSDT\",Client.KLINE_INTERVAL_1MINUTE,\"1 Jan, 2017\", \"1 July, 2022\")\n",
    "    col = [\"Date\", \"Open\", \"High\", \"Low\", \"Close\"]\n",
    "    ret_df = pd.DataFrame(candles)\n",
    "    ret_df = ret_df[[0,1,2,3,4]]\n",
    "    ret_df.columns = col\n",
    "    ret_df[\"Date\"] = pd.to_datetime(ret_df[\"Date\"], unit=\"ms\")\n",
    "    ret_df.set_index(\"Date\",inplace=True)\n",
    "    ret_df = ret_df.astype(float)\n",
    "    add_candle_return_df(ret_df)\n",
    "    bollinger(ret_df)\n",
    "    add_condition_df(ret_df)\n",
    "    return ret_df\n",
    "#fetch_daily_binance_data()"
   ]
  },
  {
   "cell_type": "markdown",
   "metadata": {},
   "source": [
    "<h1 style=\"color: red\"> Plotting </h1>"
   ]
  },
  {
   "cell_type": "code",
   "execution_count": 7,
   "metadata": {},
   "outputs": [],
   "source": [
    "#plotting bollinger band percentage against bollinger high band gradient\n",
    "#this cell may not be useful\n",
    "def plot_bandpercent_highgrad(df):\n",
    "    plt.clf()\n",
    "    percentage_array = df[\"bollinger band percentage\"].tolist()\n",
    "    count = 0\n",
    "    gradient_array = df[\"bollinger high gradient\"].tolist()\n",
    "    plt.title(\"band p vs. high grad\")\n",
    "    plt.xlabel(\"gradient\")\n",
    "    plt.scatter(gradient_array,percentage_array,c=\"blue\")\n"
   ]
  },
  {
   "cell_type": "code",
   "execution_count": 8,
   "metadata": {},
   "outputs": [],
   "source": [
    "#plotting gradients and band percentages\n",
    "def plot_gradients_percentage_3d(df):\n",
    "    plt.clf()\n",
    "    fig = plt.figure()\n",
    "    ax = plt.axes(projection='3d')\n",
    "    x = df[\"bollinger low gradient\"]\n",
    "    y = df[\"bollinger high gradient\"]\n",
    "    z = df[\"bollinger band percentage\"]\n",
    "    ax.scatter(x, y, z, c=z, cmap='viridis', linewidth=0.5)"
   ]
  },
  {
   "cell_type": "code",
   "execution_count": 9,
   "metadata": {},
   "outputs": [],
   "source": [
    "#plotting the price closes versus the market condition\n",
    "def plot_close_condition(df):\n",
    "    plt.clf()\n",
    "    fig, axs = plt.subplots(2)\n",
    "    fig.suptitle('price close vs. condition')\n",
    "    axs[0].plot(df[\"Close\"])\n",
    "    axs[1].plot(df[\"condition\"])"
   ]
  },
  {
   "cell_type": "code",
   "execution_count": 10,
   "metadata": {},
   "outputs": [],
   "source": [
    "#plotting candle percentage and market condition in bar chart\n",
    "def bar_plot_condition(row):\n",
    "    \n",
    "    if(row[\"condition\"] == 1):\n",
    "        plt.bar(row[\"Date\"],row[\"candle return\"],color=\"green\")\n",
    "    elif(row[\"condition\"] == 0):\n",
    "        plt.bar(row[\"Date\"],row[\"candle return\"],color=\"blue\")\n",
    "    else:\n",
    "        plt.bar(row[\"Date\"],row[\"candle return\"],color=\"red\")\n",
    "#this function receives a dataframe as input but here's a technicality:\n",
    "#you need to convert the dataframe indexed by dates into a csv file, and then into a dataframe again\n",
    "#so that the dataframe isn't indexed anymore. there might be a better way to do this but sue me\n",
    "#better way: input is df.reset_index()\n",
    "def plot_candle_condition(df):\n",
    "    plt.clf()\n",
    "    df_without_index = df.reset_index()\n",
    "    df_without_index.apply(lambda row: bar_plot_condition(row),axis=1)"
   ]
  },
  {
   "cell_type": "markdown",
   "metadata": {},
   "source": [
    "<h1 style=\"color: red\"> Testing/Applying </h1>"
   ]
  },
  {
   "cell_type": "markdown",
   "metadata": {},
   "source": [
    "<h3>how to gather data</h3>\n",
    "<li>initialize binance data by calling the data fetcher functions </li>\n",
    "<li>initialize stock data by using yfinance</li>\n",
    "<li>there are three plotting functions, you can call all of them by passing the data frame into the functions. (use plot_candle_condition() not bar_plot_condition()) </li>\n",
    "<li>initialize a smaller sample of data by using the .loc[] function. pass [\"starting date\":\"ending date\"] as parameter </li>\n"
   ]
  },
  {
   "cell_type": "code",
   "execution_count": 20,
   "metadata": {},
   "outputs": [],
   "source": [
    "df_test = fetch_daily_binance_data()"
   ]
  },
  {
   "cell_type": "code",
   "execution_count": 21,
   "metadata": {},
   "outputs": [
    {
     "data": {
      "text/html": [
       "<div>\n",
       "<style scoped>\n",
       "    .dataframe tbody tr th:only-of-type {\n",
       "        vertical-align: middle;\n",
       "    }\n",
       "\n",
       "    .dataframe tbody tr th {\n",
       "        vertical-align: top;\n",
       "    }\n",
       "\n",
       "    .dataframe thead th {\n",
       "        text-align: right;\n",
       "    }\n",
       "</style>\n",
       "<table border=\"1\" class=\"dataframe\">\n",
       "  <thead>\n",
       "    <tr style=\"text-align: right;\">\n",
       "      <th></th>\n",
       "      <th>Open</th>\n",
       "      <th>High</th>\n",
       "      <th>Low</th>\n",
       "      <th>Close</th>\n",
       "      <th>candle return</th>\n",
       "      <th>bollinger high band</th>\n",
       "      <th>bollinger low band</th>\n",
       "      <th>bollinger middle band</th>\n",
       "      <th>band width</th>\n",
       "      <th>bollinger high gradient</th>\n",
       "      <th>bollinger low gradient</th>\n",
       "      <th>bollinger band percentage</th>\n",
       "      <th>condition</th>\n",
       "    </tr>\n",
       "    <tr>\n",
       "      <th>Date</th>\n",
       "      <th></th>\n",
       "      <th></th>\n",
       "      <th></th>\n",
       "      <th></th>\n",
       "      <th></th>\n",
       "      <th></th>\n",
       "      <th></th>\n",
       "      <th></th>\n",
       "      <th></th>\n",
       "      <th></th>\n",
       "      <th></th>\n",
       "      <th></th>\n",
       "      <th></th>\n",
       "    </tr>\n",
       "  </thead>\n",
       "  <tbody>\n",
       "    <tr>\n",
       "      <th>2022-01-01</th>\n",
       "      <td>46216.93</td>\n",
       "      <td>47954.63</td>\n",
       "      <td>46208.37</td>\n",
       "      <td>47722.65</td>\n",
       "      <td>3.257940</td>\n",
       "      <td>51498.099212</td>\n",
       "      <td>44920.575788</td>\n",
       "      <td>48209.3375</td>\n",
       "      <td>13.643671</td>\n",
       "      <td>-109.074945</td>\n",
       "      <td>21.683945</td>\n",
       "      <td>14.642563</td>\n",
       "      <td>-1</td>\n",
       "    </tr>\n",
       "    <tr>\n",
       "      <th>2022-01-02</th>\n",
       "      <td>47722.66</td>\n",
       "      <td>47990.00</td>\n",
       "      <td>46654.00</td>\n",
       "      <td>47286.18</td>\n",
       "      <td>-0.914618</td>\n",
       "      <td>51483.356064</td>\n",
       "      <td>44993.661936</td>\n",
       "      <td>48238.5090</td>\n",
       "      <td>13.453347</td>\n",
       "      <td>-8.887847</td>\n",
       "      <td>-56.799653</td>\n",
       "      <td>14.423574</td>\n",
       "      <td>-1</td>\n",
       "    </tr>\n",
       "    <tr>\n",
       "      <th>2022-01-03</th>\n",
       "      <td>47286.18</td>\n",
       "      <td>47570.00</td>\n",
       "      <td>45696.00</td>\n",
       "      <td>46446.10</td>\n",
       "      <td>-1.776587</td>\n",
       "      <td>51480.323517</td>\n",
       "      <td>44806.976483</td>\n",
       "      <td>48143.6500</td>\n",
       "      <td>13.861323</td>\n",
       "      <td>-13.188206</td>\n",
       "      <td>-233.319294</td>\n",
       "      <td>14.893545</td>\n",
       "      <td>-1</td>\n",
       "    </tr>\n",
       "    <tr>\n",
       "      <th>2022-01-04</th>\n",
       "      <td>46446.10</td>\n",
       "      <td>47557.54</td>\n",
       "      <td>45500.00</td>\n",
       "      <td>45832.01</td>\n",
       "      <td>-1.322156</td>\n",
       "      <td>51456.979652</td>\n",
       "      <td>44527.023348</td>\n",
       "      <td>47992.0015</td>\n",
       "      <td>14.439815</td>\n",
       "      <td>146.882994</td>\n",
       "      <td>-507.593994</td>\n",
       "      <td>15.563484</td>\n",
       "      <td>-1</td>\n",
       "    </tr>\n",
       "    <tr>\n",
       "      <th>2022-01-05</th>\n",
       "      <td>45832.01</td>\n",
       "      <td>47070.00</td>\n",
       "      <td>42500.00</td>\n",
       "      <td>43451.13</td>\n",
       "      <td>-5.194797</td>\n",
       "      <td>51774.089504</td>\n",
       "      <td>43791.788496</td>\n",
       "      <td>47782.9390</td>\n",
       "      <td>16.705337</td>\n",
       "      <td>306.546789</td>\n",
       "      <td>-668.053789</td>\n",
       "      <td>18.227849</td>\n",
       "      <td>-1</td>\n",
       "    </tr>\n",
       "    <tr>\n",
       "      <th>...</th>\n",
       "      <td>...</td>\n",
       "      <td>...</td>\n",
       "      <td>...</td>\n",
       "      <td>...</td>\n",
       "      <td>...</td>\n",
       "      <td>...</td>\n",
       "      <td>...</td>\n",
       "      <td>...</td>\n",
       "      <td>...</td>\n",
       "      <td>...</td>\n",
       "      <td>...</td>\n",
       "      <td>...</td>\n",
       "      <td>...</td>\n",
       "    </tr>\n",
       "    <tr>\n",
       "      <th>2022-06-27</th>\n",
       "      <td>21038.08</td>\n",
       "      <td>21539.85</td>\n",
       "      <td>20510.00</td>\n",
       "      <td>20742.56</td>\n",
       "      <td>-1.404691</td>\n",
       "      <td>30105.158407</td>\n",
       "      <td>15788.171593</td>\n",
       "      <td>22946.6650</td>\n",
       "      <td>62.392451</td>\n",
       "      <td>-1255.612115</td>\n",
       "      <td>240.299615</td>\n",
       "      <td>90.681728</td>\n",
       "      <td>-1</td>\n",
       "    </tr>\n",
       "    <tr>\n",
       "      <th>2022-06-28</th>\n",
       "      <td>20742.57</td>\n",
       "      <td>21212.10</td>\n",
       "      <td>20202.01</td>\n",
       "      <td>20281.29</td>\n",
       "      <td>-2.223832</td>\n",
       "      <td>28864.857722</td>\n",
       "      <td>16036.124278</td>\n",
       "      <td>22450.4910</td>\n",
       "      <td>57.142329</td>\n",
       "      <td>-1361.461310</td>\n",
       "      <td>365.941310</td>\n",
       "      <td>79.998965</td>\n",
       "      <td>-1</td>\n",
       "    </tr>\n",
       "    <tr>\n",
       "      <th>2022-06-29</th>\n",
       "      <td>20281.28</td>\n",
       "      <td>20432.31</td>\n",
       "      <td>19854.92</td>\n",
       "      <td>20123.01</td>\n",
       "      <td>-0.780375</td>\n",
       "      <td>27382.235786</td>\n",
       "      <td>16520.054214</td>\n",
       "      <td>21951.1450</td>\n",
       "      <td>49.483440</td>\n",
       "      <td>-1490.790191</td>\n",
       "      <td>533.960691</td>\n",
       "      <td>65.751489</td>\n",
       "      <td>-1</td>\n",
       "    </tr>\n",
       "    <tr>\n",
       "      <th>2022-06-30</th>\n",
       "      <td>20123.00</td>\n",
       "      <td>20179.08</td>\n",
       "      <td>18626.00</td>\n",
       "      <td>19942.21</td>\n",
       "      <td>-0.898425</td>\n",
       "      <td>25883.277339</td>\n",
       "      <td>17104.045661</td>\n",
       "      <td>21493.6615</td>\n",
       "      <td>40.845678</td>\n",
       "      <td>-1607.277753</td>\n",
       "      <td>692.549253</td>\n",
       "      <td>51.328392</td>\n",
       "      <td>-1</td>\n",
       "    </tr>\n",
       "    <tr>\n",
       "      <th>2022-07-01</th>\n",
       "      <td>19942.21</td>\n",
       "      <td>20918.35</td>\n",
       "      <td>18975.00</td>\n",
       "      <td>19279.80</td>\n",
       "      <td>-3.321648</td>\n",
       "      <td>24167.680281</td>\n",
       "      <td>17905.152719</td>\n",
       "      <td>21036.4165</td>\n",
       "      <td>29.769935</td>\n",
       "      <td>-1715.597058</td>\n",
       "      <td>801.107058</td>\n",
       "      <td>34.976119</td>\n",
       "      <td>-1</td>\n",
       "    </tr>\n",
       "  </tbody>\n",
       "</table>\n",
       "<p>182 rows × 13 columns</p>\n",
       "</div>"
      ],
      "text/plain": [
       "                Open      High       Low     Close  candle return  \\\n",
       "Date                                                                \n",
       "2022-01-01  46216.93  47954.63  46208.37  47722.65       3.257940   \n",
       "2022-01-02  47722.66  47990.00  46654.00  47286.18      -0.914618   \n",
       "2022-01-03  47286.18  47570.00  45696.00  46446.10      -1.776587   \n",
       "2022-01-04  46446.10  47557.54  45500.00  45832.01      -1.322156   \n",
       "2022-01-05  45832.01  47070.00  42500.00  43451.13      -5.194797   \n",
       "...              ...       ...       ...       ...            ...   \n",
       "2022-06-27  21038.08  21539.85  20510.00  20742.56      -1.404691   \n",
       "2022-06-28  20742.57  21212.10  20202.01  20281.29      -2.223832   \n",
       "2022-06-29  20281.28  20432.31  19854.92  20123.01      -0.780375   \n",
       "2022-06-30  20123.00  20179.08  18626.00  19942.21      -0.898425   \n",
       "2022-07-01  19942.21  20918.35  18975.00  19279.80      -3.321648   \n",
       "\n",
       "            bollinger high band  bollinger low band  bollinger middle band  \\\n",
       "Date                                                                         \n",
       "2022-01-01         51498.099212        44920.575788             48209.3375   \n",
       "2022-01-02         51483.356064        44993.661936             48238.5090   \n",
       "2022-01-03         51480.323517        44806.976483             48143.6500   \n",
       "2022-01-04         51456.979652        44527.023348             47992.0015   \n",
       "2022-01-05         51774.089504        43791.788496             47782.9390   \n",
       "...                         ...                 ...                    ...   \n",
       "2022-06-27         30105.158407        15788.171593             22946.6650   \n",
       "2022-06-28         28864.857722        16036.124278             22450.4910   \n",
       "2022-06-29         27382.235786        16520.054214             21951.1450   \n",
       "2022-06-30         25883.277339        17104.045661             21493.6615   \n",
       "2022-07-01         24167.680281        17905.152719             21036.4165   \n",
       "\n",
       "            band width  bollinger high gradient  bollinger low gradient  \\\n",
       "Date                                                                      \n",
       "2022-01-01   13.643671              -109.074945               21.683945   \n",
       "2022-01-02   13.453347                -8.887847              -56.799653   \n",
       "2022-01-03   13.861323               -13.188206             -233.319294   \n",
       "2022-01-04   14.439815               146.882994             -507.593994   \n",
       "2022-01-05   16.705337               306.546789             -668.053789   \n",
       "...                ...                      ...                     ...   \n",
       "2022-06-27   62.392451             -1255.612115              240.299615   \n",
       "2022-06-28   57.142329             -1361.461310              365.941310   \n",
       "2022-06-29   49.483440             -1490.790191              533.960691   \n",
       "2022-06-30   40.845678             -1607.277753              692.549253   \n",
       "2022-07-01   29.769935             -1715.597058              801.107058   \n",
       "\n",
       "            bollinger band percentage  condition  \n",
       "Date                                              \n",
       "2022-01-01                  14.642563         -1  \n",
       "2022-01-02                  14.423574         -1  \n",
       "2022-01-03                  14.893545         -1  \n",
       "2022-01-04                  15.563484         -1  \n",
       "2022-01-05                  18.227849         -1  \n",
       "...                               ...        ...  \n",
       "2022-06-27                  90.681728         -1  \n",
       "2022-06-28                  79.998965         -1  \n",
       "2022-06-29                  65.751489         -1  \n",
       "2022-06-30                  51.328392         -1  \n",
       "2022-07-01                  34.976119         -1  \n",
       "\n",
       "[182 rows x 13 columns]"
      ]
     },
     "execution_count": 21,
     "metadata": {},
     "output_type": "execute_result"
    }
   ],
   "source": [
    "df_test_smaller = df_test.loc[\"2022-01-01\":\"2022-07-01\"]\n",
    "df_test_smaller"
   ]
  },
  {
   "cell_type": "code",
   "execution_count": 22,
   "metadata": {},
   "outputs": [
    {
     "data": {
      "image/png": "[encoded data removed]",
      "text/plain": [
       "<Figure size 432x288 with 1 Axes>"
      ]
     },
     "metadata": {
      "needs_background": "light"
     },
     "output_type": "display_data"
    }
   ],
   "source": [
    "plot_bandpercent_highgrad(df_test_smaller)"
   ]
  },
  {
   "cell_type": "code",
   "execution_count": 23,
   "metadata": {},
   "outputs": [
    {
     "data": {
      "image/png": "[encoded data removed]",
      "text/plain": [
       "<Figure size 432x288 with 1 Axes>"
      ]
     },
     "metadata": {
      "needs_background": "light"
     },
     "output_type": "display_data"
    }
   ],
   "source": [
    "plot_candle_condition(df_test_smaller)"
   ]
  },
  {
   "cell_type": "code",
   "execution_count": 24,
   "metadata": {},
   "outputs": [
    {
     "data": {
      "text/plain": [
       "<Figure size 432x288 with 0 Axes>"
      ]
     },
     "metadata": {},
     "output_type": "display_data"
    },
    {
     "data": {
      "image/png": "[encoded data removed]",
      "text/plain": [
       "<Figure size 432x288 with 1 Axes>"
      ]
     },
     "metadata": {
      "needs_background": "light"
     },
     "output_type": "display_data"
    }
   ],
   "source": [
    "plot_gradients_percentage_3d(df_test_smaller)"
   ]
  },
  {
   "cell_type": "code",
   "execution_count": 25,
   "metadata": {},
   "outputs": [
    {
     "data": {
      "text/plain": [
       "<Figure size 432x288 with 0 Axes>"
      ]
     },
     "metadata": {},
     "output_type": "display_data"
    },
    {
     "data": {
      "image/png": "[encoded data removed]",
      "text/plain": [
       "<Figure size 432x288 with 2 Axes>"
      ]
     },
     "metadata": {
      "needs_background": "light"
     },
     "output_type": "display_data"
    }
   ],
   "source": [
    "plot_close_condition(df_test_smaller)"
   ]
  }
 ],
 "metadata": {
  "kernelspec": {
   "display_name": "Python 3.10.2 64-bit",
   "language": "python",
   "name": "python3"
  },
  "language_info": {
   "codemirror_mode": {
    "name": "ipython",
    "version": 3
   },
   "file_extension": ".py",
   "mimetype": "text/x-python",
   "name": "python",
   "nbconvert_exporter": "python",
   "pygments_lexer": "ipython3",
   "version": "3.10.2"
  },
  "orig_nbformat": 4,
  "vscode": {
   "interpreter": {
    "hash": "56448e655ed5d95789a2e6ea92153f0105532ee26cb5123f88d24b87d15ee80a"
   }
  }
 },
 "nbformat": 4,
 "nbformat_minor": 2
}
