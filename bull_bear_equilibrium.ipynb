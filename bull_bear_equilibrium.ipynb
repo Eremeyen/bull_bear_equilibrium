{
 "cells": [
  {
   "cell_type": "markdown",
   "metadata": {},
   "source": [
    "<h1 style=\"color: red\"> Notes </h1>\n",
    "ideas:\n",
    "<br>\n",
    "- clustering gradients and band percentages\n",
    "<br>\n",
    "- situation 1: equilibrium, (upper - lower) / lower *100 < x=10\n",
    "<br>\n",
    "- situation 2: bullish, (upper-lower) / lower *100 > x=10 && price > middle\n",
    "<br>\n",
    "- situation 3: bearish, (upper - lower) / lower *100 > x=10 && price < middle\n",
    "<br>\n",
    "- plot return of situation's group of candles\n"
   ]
  },
  {
   "cell_type": "markdown",
   "metadata": {},
   "source": [
    "new ideas:\n",
    "<li>\n",
    "plot percentage return of bullish/bearish periods\n",
    "</li>\n",
    "<li>\n",
    "plot candles of bullish/bearish periods\n",
    "</li>\n",
    "to-do:\n",
    "<li>\n",
    "try different data: btc on different time frames\n",
    "</li>\n"
   ]
  },
  {
   "cell_type": "markdown",
   "metadata": {},
   "source": [
    "<h1 style=\"color: red\">Imports</h1>"
   ]
  },
  {
   "cell_type": "code",
   "execution_count": 1,
   "metadata": {},
   "outputs": [],
   "source": [
    "#making necessary imports and configuring APIs\n",
    "import pandas as pd\n",
    "import ta\n",
    "import numpy as np\n",
    "import matplotlib.pyplot as plt\n",
    "import yfinance as yf\n",
    "from mpl_toolkits import mplot3d\n",
    "from dotenv import load_dotenv\n",
    "from binance.client import Client\n",
    "import csv\n",
    "import os\n",
    "\n",
    "load_dotenv()\n",
    "b_key = os.getenv(\"BinanceAPI_Key\")\n",
    "b_secret = os.getenv(\"BinanceAPI_Secret\")\n",
    "client = Client(b_key,b_secret)\n"
   ]
  },
  {
   "cell_type": "markdown",
   "metadata": {},
   "source": [
    "<h1 style=\"color: red\">Dataframe Manipulation Functions</h1>"
   ]
  },
  {
   "cell_type": "code",
   "execution_count": null,
   "metadata": {},
   "outputs": [],
   "source": [
    "#adding bollinger indicators to df\n",
    "def bollinger(df):\n",
    "    df[\"bollinger high band\"] = ta.volatility.bollinger_hband(df.Close)\n",
    "    df[\"bollinger low band\"] = ta.volatility.bollinger_lband(df.Close)\n",
    "    df[\"bollinger middle band\"] = ta.volatility.bollinger_mavg(df.Close)\n",
    "    df[\"band width\"] = ta.volatility.bollinger_wband(df.Close)\n",
    "    #adding high and low band slope into data frame\n",
    "    high_grad_array = np.gradient(df[\"bollinger high band\"])\n",
    "    low_grad_array = np.gradient(df[\"bollinger low band\"])\n",
    "    df[\"bollinger high gradient\"] = high_grad_array\n",
    "    df[\"bollinger low gradient\"] = low_grad_array\n",
    "    #adding bollinger band percentage into dataframe\n",
    "    df[\"bollinger band percentage\"] = (df[\"bollinger high band\"] - df[\"bollinger low band\"]) / df[\"bollinger low band\"] *100"
   ]
  },
  {
   "cell_type": "code",
   "execution_count": null,
   "metadata": {},
   "outputs": [],
   "source": [
    "#extracts market condition from the rows\n",
    "#band percentage < %10 --> equilibrium, if not Close > middle --> bull, if not Close < middle --> bear\n",
    "def extract_market_condition(row):\n",
    "    if(row[\"bollinger band percentage\"] < 10):\n",
    "        return 0\n",
    "    elif(row[\"Close\"] > row[\"bollinger middle band\"]):\n",
    "        return 1\n",
    "    else:\n",
    "        return -1\n",
    "#applying condition function to the dataframe\n",
    "def add_condition_df(df):\n",
    "    df[\"condition\"] = df.apply(lambda row: extract_market_condition(row), axis=1)\n",
    "#adding the candle percentage return into the dataframe\n",
    "def add_candle_return_df(df):\n",
    "    df[\"candle return\"] = (df[\"Close\"] - df[\"Open\"])/df[\"Open\"]*100"
   ]
  },
  {
   "cell_type": "markdown",
   "metadata": {},
   "source": [
    "<h1 style=\"color: red\"> Fetching Data </h1>"
   ]
  },
  {
   "cell_type": "code",
   "execution_count": 2,
   "metadata": {},
   "outputs": [
    {
     "name": "stdout",
     "output_type": "stream",
     "text": [
      "[*********************100%***********************]  1 of 1 completed\n"
     ]
    }
   ],
   "source": [
    "df = yf.download(\"AAPL\",start=\"2017-01-01\")\n",
    "df = df[[\"Open\",\"High\",\"Low\",\"Close\"]]"
   ]
  },
  {
   "cell_type": "code",
   "execution_count": null,
   "metadata": {},
   "outputs": [],
   "source": [
    "#to-do: fetch btc price data for all intervals\n",
    "#daily in 3 month intervals\n",
    "#4 hours in 1 month intervals\n",
    "#1 hour in weekly intervals\n",
    "#15 minute in 3 day intervals\n",
    "#5 min\n",
    "#1 min\n",
    "\n",
    "def fetch_daily_binance_data():\n",
    "    candles = client.get_historical_klines(\"BTCUSDT\",Client.KLINE_INTERVAL_1DAY,\"1 Jan, 2022\", \"1 July, 2022\")\n",
    "    col = [\"Date\", \"Open\", \"High\", \"Low\", \"Close\"]\n",
    "    ret_df = pd.DataFrame(candles)\n",
    "    ret_df = ret_df[[0,1,2,3,4]]\n",
    "    ret_df.columns = col\n",
    "    ret_df[\"Date\"] = pd.to_datetime(ret_df[\"Date\"], unit=\"ms\")\n",
    "    ret_df.set_index(\"Date\",inplace=True)\n",
    "    ret_df = ret_df.astype(float)\n",
    "    \n",
    "    bollinger(ret_df)\n",
    "    return ret_df\n",
    "def fetch_fourhour_binance_data():\n",
    "    candles = client.get_historical_klines(\"BTCUSDT\",Client.KLINE_INTERVAL_4HOUR,\"1 Jan, 2022\", \"1 July, 2022\")\n",
    "    col = [\"Date\", \"Open\", \"High\", \"Low\", \"Close\"]\n",
    "    ret_df = pd.DataFrame(candles)\n",
    "    ret_df = ret_df[[0,1,2,3,4]]\n",
    "    ret_df.columns = col\n",
    "    ret_df[\"Date\"] = pd.to_datetime(ret_df[\"Date\"], unit=\"ms\")\n",
    "    ret_df.set_index(\"Date\",inplace=True)\n",
    "    ret_df = ret_df.astype(float)\n",
    "\n",
    "\n",
    "    return ret_df\n",
    "def fetch_1hour_binance_data():\n",
    "    candles = client.get_historical_klines(\"BTCUSDT\",Client.KLINE_INTERVAL_1HOUR,\"1 Jan, 2022\", \"1 July, 2022\")\n",
    "    col = [\"Date\", \"Open\", \"High\", \"Low\", \"Close\"]\n",
    "    ret_df = pd.DataFrame(candles)\n",
    "    ret_df = ret_df[[0,1,2,3,4]]\n",
    "    ret_df.columns = col\n",
    "    ret_df[\"Date\"] = pd.to_datetime(ret_df[\"Date\"], unit=\"ms\")\n",
    "    ret_df.set_index(\"Date\",inplace=True)\n",
    "    ret_df = ret_df.astype(float)\n",
    "\n",
    "\n",
    "    return ret_df\n",
    "def fetch_15min_binance_data():\n",
    "    candles = client.get_historical_klines(\"BTCUSDT\",Client.KLINE_INTERVAL_15MINUTE,\"1 Jan, 2022\", \"1 July, 2022\")\n",
    "    col = [\"Date\", \"Open\", \"High\", \"Low\", \"Close\"]\n",
    "    ret_df = pd.DataFrame(candles)\n",
    "    ret_df = ret_df[[0,1,2,3,4]]\n",
    "    ret_df.columns = col\n",
    "    ret_df[\"Date\"] = pd.to_datetime(ret_df[\"Date\"], unit=\"ms\")\n",
    "    ret_df.set_index(\"Date\",inplace=True)\n",
    "    ret_df = ret_df.astype(float)\n",
    "\n",
    "\n",
    "    return ret_df\n",
    "def fetch_5min_binance_data():\n",
    "    candles = client.get_historical_klines(\"BTCUSDT\",Client.KLINE_INTERVAL_5MINUTE,\"1 Jan, 2022\", \"1 July, 2022\")\n",
    "    col = [\"Date\", \"Open\", \"High\", \"Low\", \"Close\"]\n",
    "    ret_df = pd.DataFrame(candles)\n",
    "    ret_df = ret_df[[0,1,2,3,4]]\n",
    "    ret_df.columns = col\n",
    "    ret_df[\"Date\"] = pd.to_datetime(ret_df[\"Date\"], unit=\"ms\")\n",
    "    ret_df.set_index(\"Date\",inplace=True)\n",
    "    ret_df = ret_df.astype(float)\n",
    "\n",
    "\n",
    "    return ret_df\n",
    "def fetch_1min_binance_data():\n",
    "    candles = client.get_historical_klines(\"BTCUSDT\",Client.KLINE_INTERVAL_1MINUTE,\"1 Jan, 2022\", \"1 July, 2022\")\n",
    "    col = [\"Date\", \"Open\", \"High\", \"Low\", \"Close\"]\n",
    "    ret_df = pd.DataFrame(candles)\n",
    "    ret_df = ret_df[[0,1,2,3,4]]\n",
    "    ret_df.columns = col\n",
    "    ret_df[\"Date\"] = pd.to_datetime(ret_df[\"Date\"], unit=\"ms\")\n",
    "    ret_df.set_index(\"Date\",inplace=True)\n",
    "    ret_df = ret_df.astype(float)\n",
    "    \n",
    "\n",
    "    return ret_df\n",
    "#fetch_daily_binance_data()"
   ]
  },
  {
   "cell_type": "markdown",
   "metadata": {},
   "source": [
    "<h1 style=\"color: red\"> Plotting </h1>"
   ]
  },
  {
   "cell_type": "code",
   "execution_count": null,
   "metadata": {},
   "outputs": [],
   "source": [
    "#plotting bollinger band percentage against bollinger high band gradient\n",
    "#this cell may not be useful\n",
    "def plot_bandpercent_highgrad(df):\n",
    "    plt.clf()\n",
    "    percentage_array = df[\"bollinger band percentage\"].tolist()\n",
    "    count = 0\n",
    "    gradient_array = df[\"bollinger high gradient\"].tolist()\n",
    "    plt.title(\"band p vs. high grad\")\n",
    "    plt.xlabel(\"gradient\")\n",
    "    plt.scatter(gradient_array,percentage_array,c=\"blue\")\n"
   ]
  },
  {
   "cell_type": "code",
   "execution_count": null,
   "metadata": {},
   "outputs": [],
   "source": [
    "#plotting gradients and band percentages\n",
    "def plot_gradients_percentage_3d(df):\n",
    "    plt.clf()\n",
    "    fig = plt.figure()\n",
    "    ax = plt.axes(projection='3d')\n",
    "    x = df[\"bollinger low gradient\"]\n",
    "    y = df[\"bollinger high gradient\"]\n",
    "    z = df[\"bollinger band percentage\"]\n",
    "    ax.scatter(x, y, z, c=z, cmap='viridis', linewidth=0.5)"
   ]
  },
  {
   "cell_type": "code",
   "execution_count": null,
   "metadata": {},
   "outputs": [],
   "source": [
    "#plotting the price closes versus the market condition\n",
    "def plot_close_condition(df):\n",
    "    plt.clf()\n",
    "    fig, axs = plt.subplots(2)\n",
    "    fig.suptitle('price close vs. condition')\n",
    "    axs[0].plot(df[\"Close\"])\n",
    "    axs[1].plot(df[\"condition\"])"
   ]
  },
  {
   "cell_type": "code",
   "execution_count": null,
   "metadata": {},
   "outputs": [],
   "source": [
    "#plotting candle percentage and market condition in bar chart\n",
    "def bar_plot_condition(row):\n",
    "    plt.clf()\n",
    "    if(row[\"condition\"] == 1):\n",
    "        plt.bar(row[\"Date\"],row[\"candle return\"],color=\"green\")\n",
    "    elif(row[\"condition\"] == 0):\n",
    "        plt.bar(row[\"Date\"],row[\"candle return\"],color=\"blue\")\n",
    "    else:\n",
    "        plt.bar(row[\"Date\"],row[\"candle return\"],color=\"red\")\n",
    "\n",
    "def plot_candle_condition(df_csv):\n",
    "    df_csv.apply(lambda row: bar_plot_condition(row),axis=1)"
   ]
  },
  {
   "cell_type": "markdown",
   "metadata": {},
   "source": [
    "<h1 style=\"color: red\"> Testing/Applying </h1>"
   ]
  },
  {
   "cell_type": "code",
   "execution_count": 16,
   "metadata": {},
   "outputs": [],
   "source": [
    "bollinger(df)"
   ]
  },
  {
   "cell_type": "code",
   "execution_count": 6,
   "metadata": {},
   "outputs": [],
   "source": [
    "#converting dataframe into a csv file\n",
    "df.to_csv(\"test.csv\")"
   ]
  },
  {
   "cell_type": "code",
   "execution_count": null,
   "metadata": {},
   "outputs": [],
   "source": [
    "df"
   ]
  },
  {
   "cell_type": "code",
   "execution_count": 18,
   "metadata": {},
   "outputs": [],
   "source": [
    "#df_new = pd.read_csv(\"test.csv\")\n",
    "#df_new\n",
    "#df_new.apply(lambda row: bar_plot_condition(row), axis=1)\n",
    "df.to_csv(\"test.csv\")"
   ]
  }
 ],
 "metadata": {
  "kernelspec": {
   "display_name": "Python 3.10.2 64-bit",
   "language": "python",
   "name": "python3"
  },
  "language_info": {
   "codemirror_mode": {
    "name": "ipython",
    "version": 3
   },
   "file_extension": ".py",
   "mimetype": "text/x-python",
   "name": "python",
   "nbconvert_exporter": "python",
   "pygments_lexer": "ipython3",
   "version": "3.10.2"
  },
  "orig_nbformat": 4,
  "vscode": {
   "interpreter": {
    "hash": "56448e655ed5d95789a2e6ea92153f0105532ee26cb5123f88d24b87d15ee80a"
   }
  }
 },
 "nbformat": 4,
 "nbformat_minor": 2
}
