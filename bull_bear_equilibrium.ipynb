{
 "cells": [
  {
   "cell_type": "markdown",
   "metadata": {},
   "source": [
    "<h1 style=\"color: red\"> Notes </h1>\n",
    "ideas:\n",
    "<br>\n",
    "- clustering gradients and band percentages\n",
    "<br>\n",
    "- situation 1: equilibrium, (upper - lower) / lower *100 < x=10\n",
    "<br>\n",
    "- situation 2: bullish, (upper-lower) / lower *100 > x=10 && price > middle\n",
    "<br>\n",
    "- situation 3: bearish, (upper - lower) / lower *100 > x=10 && price < middle\n",
    "<br>\n",
    "- plot return of situation's group of candles\n"
   ]
  },
  {
   "cell_type": "markdown",
   "metadata": {},
   "source": [
    "new ideas:\n",
    "<li>\n",
    "plot percentage return of bullish/bearish periods\n",
    "</li>\n",
    "<li>\n",
    "plot candles of bullish/bearish periods\n",
    "</li>\n",
    "to-do:\n",
    "<li>\n",
    "try different data: btc on different time frames\n",
    "</li>\n"
   ]
  },
  {
   "cell_type": "markdown",
   "metadata": {},
   "source": [
    "<h1 style=\"color: red\">Imports</h1>"
   ]
  },
  {
   "cell_type": "code",
   "execution_count": 8,
   "metadata": {},
   "outputs": [],
   "source": [
    "#making necessary imports and configuring APIs\n",
    "import pandas as pd\n",
    "import ta\n",
    "import numpy as np\n",
    "import matplotlib.pyplot as plt\n",
    "import yfinance as yf\n",
    "from mpl_toolkits import mplot3d\n",
    "from dotenv import load_dotenv\n",
    "from binance.client import Client\n",
    "import csv\n",
    "import os\n",
    "\n",
    "load_dotenv()\n",
    "b_key = os.getenv(\"BinanceAPI_Key\")\n",
    "b_secret = os.getenv(\"BinanceAPI_Secret\")\n",
    "client = Client(b_key,b_secret)\n"
   ]
  },
  {
   "cell_type": "markdown",
   "metadata": {},
   "source": [
    "<h1 style=\"color: red\">Dataframe Manipulation Functions</h1>"
   ]
  },
  {
   "cell_type": "code",
   "execution_count": 9,
   "metadata": {},
   "outputs": [],
   "source": [
    "#adding bollinger indicators to df\n",
    "def bollinger(df):\n",
    "    df[\"bollinger high band\"] = ta.volatility.bollinger_hband(df.Close)\n",
    "    df[\"bollinger low band\"] = ta.volatility.bollinger_lband(df.Close)\n",
    "    df[\"bollinger middle band\"] = ta.volatility.bollinger_mavg(df.Close)\n",
    "    df[\"band width\"] = ta.volatility.bollinger_wband(df.Close)\n",
    "    #adding high and low band slope into data frame\n",
    "    high_grad_array = np.gradient(df[\"bollinger high band\"])\n",
    "    low_grad_array = np.gradient(df[\"bollinger low band\"])\n",
    "    df[\"bollinger high gradient\"] = high_grad_array\n",
    "    df[\"bollinger low gradient\"] = low_grad_array\n",
    "    #adding bollinger band percentage into dataframe\n",
    "    df[\"bollinger band percentage\"] = (df[\"bollinger high band\"] - df[\"bollinger low band\"]) / df[\"bollinger low band\"] *100"
   ]
  },
  {
   "cell_type": "code",
   "execution_count": 10,
   "metadata": {},
   "outputs": [],
   "source": [
    "#extracts market condition from the rows\n",
    "#band percentage < %10 --> equilibrium, if not Close > middle --> bull, if not Close < middle --> bear\n",
    "def extract_market_condition(row):\n",
    "    if(row[\"bollinger band percentage\"] < 10):\n",
    "        return 0\n",
    "    elif(row[\"Close\"] > row[\"bollinger middle band\"]):\n",
    "        return 1\n",
    "    else:\n",
    "        return -1\n",
    "#applying condition function to the dataframe\n",
    "def add_condition_df(df):\n",
    "    df[\"condition\"] = df.apply(lambda row: extract_market_condition(row), axis=1)\n",
    "#adding the candle percentage return into the dataframe\n",
    "def add_candle_return_df(df):\n",
    "    df[\"candle return\"] = (df[\"Close\"] - df[\"Open\"])/df[\"Open\"]*100"
   ]
  },
  {
   "cell_type": "markdown",
   "metadata": {},
   "source": [
    "<h1 style=\"color: red\"> Fetching Data </h1>"
   ]
  },
  {
   "cell_type": "code",
   "execution_count": 11,
   "metadata": {},
   "outputs": [
    {
     "name": "stdout",
     "output_type": "stream",
     "text": [
      "[*********************100%***********************]  1 of 1 completed\n"
     ]
    }
   ],
   "source": [
    "df = yf.download(\"AAPL\",start=\"2017-01-01\")\n",
    "df = df[[\"Open\",\"High\",\"Low\",\"Close\"]]"
   ]
  },
  {
   "cell_type": "code",
   "execution_count": 34,
   "metadata": {},
   "outputs": [],
   "source": [
    "#to-do: fetch btc price data for all intervals\n",
    "#daily in 3 month intervals\n",
    "#4 hours in 1 month intervals\n",
    "#1 hour in weekly intervals\n",
    "#15 minute in 3 day intervals\n",
    "#5 min\n",
    "#1 min\n",
    "\n",
    "#right now bollinger indicators and a few other columns are added by default. This could be changed in the future.\n",
    "def fetch_daily_binance_data():\n",
    "    candles = client.get_historical_klines(\"BTCUSDT\",Client.KLINE_INTERVAL_1DAY,\"1 Jan, 2017\", \"1 July, 2022\")\n",
    "    col = [\"Date\", \"Open\", \"High\", \"Low\", \"Close\"]\n",
    "    ret_df = pd.DataFrame(candles)\n",
    "    ret_df = ret_df[[0,1,2,3,4]]\n",
    "    ret_df.columns = col\n",
    "    ret_df[\"Date\"] = pd.to_datetime(ret_df[\"Date\"], unit=\"ms\")\n",
    "    ret_df.set_index(\"Date\",inplace=True)\n",
    "    ret_df = ret_df.astype(float)\n",
    "    add_candle_return_df(ret_df)\n",
    "    bollinger(ret_df)\n",
    "    add_condition_df(ret_df)\n",
    "    return ret_df\n",
    "def fetch_fourhour_binance_data():\n",
    "    candles = client.get_historical_klines(\"BTCUSDT\",Client.KLINE_INTERVAL_4HOUR,\"1 Jan, 2017\", \"1 July, 2022\")\n",
    "    col = [\"Date\", \"Open\", \"High\", \"Low\", \"Close\"]\n",
    "    ret_df = pd.DataFrame(candles)\n",
    "    ret_df = ret_df[[0,1,2,3,4]]\n",
    "    ret_df.columns = col\n",
    "    ret_df[\"Date\"] = pd.to_datetime(ret_df[\"Date\"], unit=\"ms\")\n",
    "    ret_df.set_index(\"Date\",inplace=True)\n",
    "    ret_df = ret_df.astype(float)\n",
    "    add_candle_return_df(ret_df)\n",
    "    bollinger(ret_df)\n",
    "    add_condition_df(ret_df)\n",
    "    return ret_df\n",
    "def fetch_1hour_binance_data():\n",
    "    candles = client.get_historical_klines(\"BTCUSDT\",Client.KLINE_INTERVAL_1HOUR,\"1 Jan, 2017\", \"1 July, 2022\")\n",
    "    col = [\"Date\", \"Open\", \"High\", \"Low\", \"Close\"]\n",
    "    ret_df = pd.DataFrame(candles)\n",
    "    ret_df = ret_df[[0,1,2,3,4]]\n",
    "    ret_df.columns = col\n",
    "    ret_df[\"Date\"] = pd.to_datetime(ret_df[\"Date\"], unit=\"ms\")\n",
    "    ret_df.set_index(\"Date\",inplace=True)\n",
    "    ret_df = ret_df.astype(float)\n",
    "    add_candle_return_df(ret_df)\n",
    "    bollinger(ret_df)\n",
    "    add_condition_df(ret_df)\n",
    "    return ret_df\n",
    "def fetch_15min_binance_data():\n",
    "    candles = client.get_historical_klines(\"BTCUSDT\",Client.KLINE_INTERVAL_15MINUTE,\"1 Jan, 2017\", \"1 July, 2022\")\n",
    "    col = [\"Date\", \"Open\", \"High\", \"Low\", \"Close\"]\n",
    "    ret_df = pd.DataFrame(candles)\n",
    "    ret_df = ret_df[[0,1,2,3,4]]\n",
    "    ret_df.columns = col\n",
    "    ret_df[\"Date\"] = pd.to_datetime(ret_df[\"Date\"], unit=\"ms\")\n",
    "    ret_df.set_index(\"Date\",inplace=True)\n",
    "    ret_df = ret_df.astype(float)\n",
    "    add_candle_return_df(ret_df)\n",
    "    bollinger(ret_df)\n",
    "    add_condition_df(ret_df)\n",
    "    return ret_df\n",
    "def fetch_5min_binance_data():\n",
    "    candles = client.get_historical_klines(\"BTCUSDT\",Client.KLINE_INTERVAL_5MINUTE,\"1 Jan, 2017\", \"1 July, 2022\")\n",
    "    col = [\"Date\", \"Open\", \"High\", \"Low\", \"Close\"]\n",
    "    ret_df = pd.DataFrame(candles)\n",
    "    ret_df = ret_df[[0,1,2,3,4]]\n",
    "    ret_df.columns = col\n",
    "    ret_df[\"Date\"] = pd.to_datetime(ret_df[\"Date\"], unit=\"ms\")\n",
    "    ret_df.set_index(\"Date\",inplace=True)\n",
    "    ret_df = ret_df.astype(float)\n",
    "    add_candle_return_df(ret_df)\n",
    "    bollinger(ret_df)\n",
    "    add_condition_df(ret_df)\n",
    "    return ret_df\n",
    "def fetch_1min_binance_data():\n",
    "    candles = client.get_historical_klines(\"BTCUSDT\",Client.KLINE_INTERVAL_1MINUTE,\"1 Jan, 2017\", \"1 July, 2022\")\n",
    "    col = [\"Date\", \"Open\", \"High\", \"Low\", \"Close\"]\n",
    "    ret_df = pd.DataFrame(candles)\n",
    "    ret_df = ret_df[[0,1,2,3,4]]\n",
    "    ret_df.columns = col\n",
    "    ret_df[\"Date\"] = pd.to_datetime(ret_df[\"Date\"], unit=\"ms\")\n",
    "    ret_df.set_index(\"Date\",inplace=True)\n",
    "    ret_df = ret_df.astype(float)\n",
    "    add_candle_return_df(ret_df)\n",
    "    bollinger(ret_df)\n",
    "    add_condition_df(ret_df)\n",
    "    return ret_df\n",
    "#fetch_daily_binance_data()"
   ]
  },
  {
   "cell_type": "markdown",
   "metadata": {},
   "source": [
    "<h1 style=\"color: red\"> Plotting </h1>"
   ]
  },
  {
   "cell_type": "code",
   "execution_count": 13,
   "metadata": {},
   "outputs": [],
   "source": [
    "#plotting bollinger band percentage against bollinger high band gradient\n",
    "#this cell may not be useful\n",
    "def plot_bandpercent_highgrad(df):\n",
    "    plt.clf()\n",
    "    percentage_array = df[\"bollinger band percentage\"].tolist()\n",
    "    count = 0\n",
    "    gradient_array = df[\"bollinger high gradient\"].tolist()\n",
    "    plt.title(\"band p vs. high grad\")\n",
    "    plt.xlabel(\"gradient\")\n",
    "    plt.scatter(gradient_array,percentage_array,c=\"blue\")\n"
   ]
  },
  {
   "cell_type": "code",
   "execution_count": 14,
   "metadata": {},
   "outputs": [],
   "source": [
    "#plotting gradients and band percentages\n",
    "def plot_gradients_percentage_3d(df):\n",
    "    plt.clf()\n",
    "    fig = plt.figure()\n",
    "    ax = plt.axes(projection='3d')\n",
    "    x = df[\"bollinger low gradient\"]\n",
    "    y = df[\"bollinger high gradient\"]\n",
    "    z = df[\"bollinger band percentage\"]\n",
    "    ax.scatter(x, y, z, c=z, cmap='viridis', linewidth=0.5)"
   ]
  },
  {
   "cell_type": "code",
   "execution_count": 15,
   "metadata": {},
   "outputs": [],
   "source": [
    "#plotting the price closes versus the market condition\n",
    "def plot_close_condition(df):\n",
    "    plt.clf()\n",
    "    fig, axs = plt.subplots(2)\n",
    "    fig.suptitle('price close vs. condition')\n",
    "    axs[0].plot(df[\"Close\"])\n",
    "    axs[1].plot(df[\"condition\"])"
   ]
  },
  {
   "cell_type": "code",
   "execution_count": 68,
   "metadata": {},
   "outputs": [],
   "source": [
    "#plotting candle percentage and market condition in bar chart\n",
    "def bar_plot_condition(row):\n",
    "    \n",
    "    if(row[\"condition\"] == 1):\n",
    "        plt.bar(row[\"Date\"],row[\"candle return\"],color=\"green\")\n",
    "    elif(row[\"condition\"] == 0):\n",
    "        plt.bar(row[\"Date\"],row[\"candle return\"],color=\"blue\")\n",
    "    else:\n",
    "        plt.bar(row[\"Date\"],row[\"candle return\"],color=\"red\")\n",
    "#this function receives a dataframe as input but here's a technicality:\n",
    "#you need to convert the dataframe indexed by dates into a csv file, and then into a dataframe again\n",
    "#so that the dataframe isn't indexed anymore. there might be a better way to do this but sue me\n",
    "#better way: input is df.reset_index()\n",
    "def plot_candle_condition(df):\n",
    "    plt.clf()\n",
    "    df_without_index = df.reset_index()\n",
    "    df_without_index.apply(lambda row: bar_plot_condition(row),axis=1)"
   ]
  },
  {
   "cell_type": "markdown",
   "metadata": {},
   "source": [
    "<h1 style=\"color: red\"> Testing/Applying </h1>"
   ]
  },
  {
   "cell_type": "markdown",
   "metadata": {},
   "source": [
    "<h3>how to gather data</h3>\n",
    "<li>initialize binance data by calling the data fetcher functions </li>\n",
    "<li>initialize stock data by using yfinance</li>\n",
    "<li>there are three plotting functions, you can call all of them by passing the data frame into the functions. (use plot_candle_condition() not bar_plot_condition()) </li>\n",
    "<li>initialize a smaller sample of data by using the .loc[] function. pass [\"starting date\":\"ending date\"] as parameter </li>\n"
   ]
  },
  {
   "cell_type": "code",
   "execution_count": 70,
   "metadata": {},
   "outputs": [],
   "source": [
    "df_test = fetch_fourhour_binance_data()"
   ]
  },
  {
   "cell_type": "code",
   "execution_count": 71,
   "metadata": {},
   "outputs": [
    {
     "data": {
      "text/html": [
       "<div>\n",
       "<style scoped>\n",
       "    .dataframe tbody tr th:only-of-type {\n",
       "        vertical-align: middle;\n",
       "    }\n",
       "\n",
       "    .dataframe tbody tr th {\n",
       "        vertical-align: top;\n",
       "    }\n",
       "\n",
       "    .dataframe thead th {\n",
       "        text-align: right;\n",
       "    }\n",
       "</style>\n",
       "<table border=\"1\" class=\"dataframe\">\n",
       "  <thead>\n",
       "    <tr style=\"text-align: right;\">\n",
       "      <th></th>\n",
       "      <th>Open</th>\n",
       "      <th>High</th>\n",
       "      <th>Low</th>\n",
       "      <th>Close</th>\n",
       "      <th>candle return</th>\n",
       "      <th>bollinger high band</th>\n",
       "      <th>bollinger low band</th>\n",
       "      <th>bollinger middle band</th>\n",
       "      <th>band width</th>\n",
       "      <th>bollinger high gradient</th>\n",
       "      <th>bollinger low gradient</th>\n",
       "      <th>bollinger band percentage</th>\n",
       "      <th>condition</th>\n",
       "    </tr>\n",
       "    <tr>\n",
       "      <th>Date</th>\n",
       "      <th></th>\n",
       "      <th></th>\n",
       "      <th></th>\n",
       "      <th></th>\n",
       "      <th></th>\n",
       "      <th></th>\n",
       "      <th></th>\n",
       "      <th></th>\n",
       "      <th></th>\n",
       "      <th></th>\n",
       "      <th></th>\n",
       "      <th></th>\n",
       "      <th></th>\n",
       "    </tr>\n",
       "  </thead>\n",
       "  <tbody>\n",
       "    <tr>\n",
       "      <th>2022-01-01 00:00:00</th>\n",
       "      <td>46216.93</td>\n",
       "      <td>46949.99</td>\n",
       "      <td>46208.37</td>\n",
       "      <td>46813.20</td>\n",
       "      <td>1.290155</td>\n",
       "      <td>48452.637955</td>\n",
       "      <td>45987.025045</td>\n",
       "      <td>47219.8315</td>\n",
       "      <td>5.221562</td>\n",
       "      <td>-35.806190</td>\n",
       "      <td>-25.457310</td>\n",
       "      <td>5.361540</td>\n",
       "      <td>0</td>\n",
       "    </tr>\n",
       "    <tr>\n",
       "      <th>2022-01-01 04:00:00</th>\n",
       "      <td>46813.21</td>\n",
       "      <td>47555.55</td>\n",
       "      <td>46591.23</td>\n",
       "      <td>47194.73</td>\n",
       "      <td>0.814984</td>\n",
       "      <td>48426.201391</td>\n",
       "      <td>45978.560609</td>\n",
       "      <td>47202.3810</td>\n",
       "      <td>5.185418</td>\n",
       "      <td>-65.824887</td>\n",
       "      <td>-13.732613</td>\n",
       "      <td>5.323439</td>\n",
       "      <td>0</td>\n",
       "    </tr>\n",
       "    <tr>\n",
       "      <th>2022-01-01 08:00:00</th>\n",
       "      <td>47194.73</td>\n",
       "      <td>47344.69</td>\n",
       "      <td>46715.39</td>\n",
       "      <td>46758.87</td>\n",
       "      <td>-0.923535</td>\n",
       "      <td>48320.988181</td>\n",
       "      <td>45959.559819</td>\n",
       "      <td>47140.2740</td>\n",
       "      <td>5.009365</td>\n",
       "      <td>-69.253079</td>\n",
       "      <td>-10.403421</td>\n",
       "      <td>5.138057</td>\n",
       "      <td>0</td>\n",
       "    </tr>\n",
       "    <tr>\n",
       "      <th>2022-01-01 12:00:00</th>\n",
       "      <td>46758.87</td>\n",
       "      <td>47491.14</td>\n",
       "      <td>46756.30</td>\n",
       "      <td>47219.04</td>\n",
       "      <td>0.984134</td>\n",
       "      <td>48287.695234</td>\n",
       "      <td>45957.753766</td>\n",
       "      <td>47122.7245</td>\n",
       "      <td>4.944412</td>\n",
       "      <td>-41.805321</td>\n",
       "      <td>3.847321</td>\n",
       "      <td>5.069746</td>\n",
       "      <td>0</td>\n",
       "    </tr>\n",
       "    <tr>\n",
       "      <th>2022-01-01 16:00:00</th>\n",
       "      <td>47219.04</td>\n",
       "      <td>47954.63</td>\n",
       "      <td>47186.07</td>\n",
       "      <td>47329.78</td>\n",
       "      <td>0.234524</td>\n",
       "      <td>48237.377539</td>\n",
       "      <td>45967.254461</td>\n",
       "      <td>47102.3160</td>\n",
       "      <td>4.819557</td>\n",
       "      <td>-46.823362</td>\n",
       "      <td>14.579362</td>\n",
       "      <td>4.938566</td>\n",
       "      <td>0</td>\n",
       "    </tr>\n",
       "    <tr>\n",
       "      <th>...</th>\n",
       "      <td>...</td>\n",
       "      <td>...</td>\n",
       "      <td>...</td>\n",
       "      <td>...</td>\n",
       "      <td>...</td>\n",
       "      <td>...</td>\n",
       "      <td>...</td>\n",
       "      <td>...</td>\n",
       "      <td>...</td>\n",
       "      <td>...</td>\n",
       "      <td>...</td>\n",
       "      <td>...</td>\n",
       "      <td>...</td>\n",
       "    </tr>\n",
       "    <tr>\n",
       "      <th>2022-06-30 08:00:00</th>\n",
       "      <td>19435.89</td>\n",
       "      <td>19440.73</td>\n",
       "      <td>18921.59</td>\n",
       "      <td>19101.36</td>\n",
       "      <td>-1.721197</td>\n",
       "      <td>21518.921840</td>\n",
       "      <td>19311.336160</td>\n",
       "      <td>20415.1290</td>\n",
       "      <td>10.813479</td>\n",
       "      <td>-20.381542</td>\n",
       "      <td>-194.078458</td>\n",
       "      <td>11.431553</td>\n",
       "      <td>-1</td>\n",
       "    </tr>\n",
       "    <tr>\n",
       "      <th>2022-06-30 12:00:00</th>\n",
       "      <td>19101.35</td>\n",
       "      <td>19341.26</td>\n",
       "      <td>18756.71</td>\n",
       "      <td>19143.98</td>\n",
       "      <td>0.223178</td>\n",
       "      <td>21449.809623</td>\n",
       "      <td>19158.524377</td>\n",
       "      <td>20304.1670</td>\n",
       "      <td>11.284803</td>\n",
       "      <td>-67.857957</td>\n",
       "      <td>-161.964543</td>\n",
       "      <td>11.959612</td>\n",
       "      <td>-1</td>\n",
       "    </tr>\n",
       "    <tr>\n",
       "      <th>2022-06-30 16:00:00</th>\n",
       "      <td>19143.97</td>\n",
       "      <td>19295.89</td>\n",
       "      <td>18850.21</td>\n",
       "      <td>18927.34</td>\n",
       "      <td>-1.131583</td>\n",
       "      <td>21383.205925</td>\n",
       "      <td>18987.407075</td>\n",
       "      <td>20185.3065</td>\n",
       "      <td>11.869024</td>\n",
       "      <td>-66.191876</td>\n",
       "      <td>-93.294624</td>\n",
       "      <td>12.617831</td>\n",
       "      <td>-1</td>\n",
       "    </tr>\n",
       "    <tr>\n",
       "      <th>2022-06-30 20:00:00</th>\n",
       "      <td>18927.33</td>\n",
       "      <td>19980.00</td>\n",
       "      <td>18626.00</td>\n",
       "      <td>19942.21</td>\n",
       "      <td>5.361982</td>\n",
       "      <td>21317.425870</td>\n",
       "      <td>18971.935130</td>\n",
       "      <td>20144.6805</td>\n",
       "      <td>11.643226</td>\n",
       "      <td>-78.182401</td>\n",
       "      <td>-18.674099</td>\n",
       "      <td>12.362949</td>\n",
       "      <td>-1</td>\n",
       "    </tr>\n",
       "    <tr>\n",
       "      <th>2022-07-01 00:00:00</th>\n",
       "      <td>19942.21</td>\n",
       "      <td>20918.35</td>\n",
       "      <td>19658.97</td>\n",
       "      <td>19730.76</td>\n",
       "      <td>-1.060314</td>\n",
       "      <td>21226.841123</td>\n",
       "      <td>18950.058877</td>\n",
       "      <td>20088.4500</td>\n",
       "      <td>11.333788</td>\n",
       "      <td>-90.584747</td>\n",
       "      <td>-21.876253</td>\n",
       "      <td>12.014645</td>\n",
       "      <td>-1</td>\n",
       "    </tr>\n",
       "  </tbody>\n",
       "</table>\n",
       "<p>1087 rows × 13 columns</p>\n",
       "</div>"
      ],
      "text/plain": [
       "                         Open      High       Low     Close  candle return  \\\n",
       "Date                                                                         \n",
       "2022-01-01 00:00:00  46216.93  46949.99  46208.37  46813.20       1.290155   \n",
       "2022-01-01 04:00:00  46813.21  47555.55  46591.23  47194.73       0.814984   \n",
       "2022-01-01 08:00:00  47194.73  47344.69  46715.39  46758.87      -0.923535   \n",
       "2022-01-01 12:00:00  46758.87  47491.14  46756.30  47219.04       0.984134   \n",
       "2022-01-01 16:00:00  47219.04  47954.63  47186.07  47329.78       0.234524   \n",
       "...                       ...       ...       ...       ...            ...   \n",
       "2022-06-30 08:00:00  19435.89  19440.73  18921.59  19101.36      -1.721197   \n",
       "2022-06-30 12:00:00  19101.35  19341.26  18756.71  19143.98       0.223178   \n",
       "2022-06-30 16:00:00  19143.97  19295.89  18850.21  18927.34      -1.131583   \n",
       "2022-06-30 20:00:00  18927.33  19980.00  18626.00  19942.21       5.361982   \n",
       "2022-07-01 00:00:00  19942.21  20918.35  19658.97  19730.76      -1.060314   \n",
       "\n",
       "                     bollinger high band  bollinger low band  \\\n",
       "Date                                                           \n",
       "2022-01-01 00:00:00         48452.637955        45987.025045   \n",
       "2022-01-01 04:00:00         48426.201391        45978.560609   \n",
       "2022-01-01 08:00:00         48320.988181        45959.559819   \n",
       "2022-01-01 12:00:00         48287.695234        45957.753766   \n",
       "2022-01-01 16:00:00         48237.377539        45967.254461   \n",
       "...                                  ...                 ...   \n",
       "2022-06-30 08:00:00         21518.921840        19311.336160   \n",
       "2022-06-30 12:00:00         21449.809623        19158.524377   \n",
       "2022-06-30 16:00:00         21383.205925        18987.407075   \n",
       "2022-06-30 20:00:00         21317.425870        18971.935130   \n",
       "2022-07-01 00:00:00         21226.841123        18950.058877   \n",
       "\n",
       "                     bollinger middle band  band width  \\\n",
       "Date                                                     \n",
       "2022-01-01 00:00:00             47219.8315    5.221562   \n",
       "2022-01-01 04:00:00             47202.3810    5.185418   \n",
       "2022-01-01 08:00:00             47140.2740    5.009365   \n",
       "2022-01-01 12:00:00             47122.7245    4.944412   \n",
       "2022-01-01 16:00:00             47102.3160    4.819557   \n",
       "...                                    ...         ...   \n",
       "2022-06-30 08:00:00             20415.1290   10.813479   \n",
       "2022-06-30 12:00:00             20304.1670   11.284803   \n",
       "2022-06-30 16:00:00             20185.3065   11.869024   \n",
       "2022-06-30 20:00:00             20144.6805   11.643226   \n",
       "2022-07-01 00:00:00             20088.4500   11.333788   \n",
       "\n",
       "                     bollinger high gradient  bollinger low gradient  \\\n",
       "Date                                                                   \n",
       "2022-01-01 00:00:00               -35.806190              -25.457310   \n",
       "2022-01-01 04:00:00               -65.824887              -13.732613   \n",
       "2022-01-01 08:00:00               -69.253079              -10.403421   \n",
       "2022-01-01 12:00:00               -41.805321                3.847321   \n",
       "2022-01-01 16:00:00               -46.823362               14.579362   \n",
       "...                                      ...                     ...   \n",
       "2022-06-30 08:00:00               -20.381542             -194.078458   \n",
       "2022-06-30 12:00:00               -67.857957             -161.964543   \n",
       "2022-06-30 16:00:00               -66.191876              -93.294624   \n",
       "2022-06-30 20:00:00               -78.182401              -18.674099   \n",
       "2022-07-01 00:00:00               -90.584747              -21.876253   \n",
       "\n",
       "                     bollinger band percentage  condition  \n",
       "Date                                                       \n",
       "2022-01-01 00:00:00                   5.361540          0  \n",
       "2022-01-01 04:00:00                   5.323439          0  \n",
       "2022-01-01 08:00:00                   5.138057          0  \n",
       "2022-01-01 12:00:00                   5.069746          0  \n",
       "2022-01-01 16:00:00                   4.938566          0  \n",
       "...                                        ...        ...  \n",
       "2022-06-30 08:00:00                  11.431553         -1  \n",
       "2022-06-30 12:00:00                  11.959612         -1  \n",
       "2022-06-30 16:00:00                  12.617831         -1  \n",
       "2022-06-30 20:00:00                  12.362949         -1  \n",
       "2022-07-01 00:00:00                  12.014645         -1  \n",
       "\n",
       "[1087 rows x 13 columns]"
      ]
     },
     "execution_count": 71,
     "metadata": {},
     "output_type": "execute_result"
    }
   ],
   "source": [
    "df_test_smaller = df_test.loc[\"2022-01-01\":\"2022-07-01\"]\n",
    "df_test_smaller"
   ]
  },
  {
   "cell_type": "code",
   "execution_count": 72,
   "metadata": {},
   "outputs": [
    {
     "data": {
      "image/png": "[encoded data removed]",
      "text/plain": [
       "<Figure size 432x288 with 1 Axes>"
      ]
     },
     "metadata": {
      "needs_background": "light"
     },
     "output_type": "display_data"
    }
   ],
   "source": [
    "plot_bandpercent_highgrad(df_test_smaller)"
   ]
  },
  {
   "cell_type": "code",
   "execution_count": 73,
   "metadata": {},
   "outputs": [
    {
     "data": {
      "image/png": "[encoded data removed]",
      "text/plain": [
       "<Figure size 432x288 with 1 Axes>"
      ]
     },
     "metadata": {
      "needs_background": "light"
     },
     "output_type": "display_data"
    }
   ],
   "source": [
    "plot_candle_condition(df_test_smaller)"
   ]
  },
  {
   "cell_type": "code",
   "execution_count": 74,
   "metadata": {},
   "outputs": [
    {
     "data": {
      "text/plain": [
       "<Figure size 432x288 with 0 Axes>"
      ]
     },
     "metadata": {},
     "output_type": "display_data"
    },
    {
     "data": {
      "image/png": "[encoded data removed]",
      "text/plain": [
       "<Figure size 432x288 with 1 Axes>"
      ]
     },
     "metadata": {
      "needs_background": "light"
     },
     "output_type": "display_data"
    }
   ],
   "source": [
    "plot_gradients_percentage_3d(df_test_smaller)"
   ]
  },
  {
   "cell_type": "code",
   "execution_count": 75,
   "metadata": {},
   "outputs": [
    {
     "data": {
      "text/plain": [
       "<Figure size 432x288 with 0 Axes>"
      ]
     },
     "metadata": {},
     "output_type": "display_data"
    },
    {
     "data": {
      "image/png": "[encoded data removed]",
      "text/plain": [
       "<Figure size 432x288 with 2 Axes>"
      ]
     },
     "metadata": {
      "needs_background": "light"
     },
     "output_type": "display_data"
    }
   ],
   "source": [
    "plot_close_condition(df_test_smaller)"
   ]
  }
 ],
 "metadata": {
  "kernelspec": {
   "display_name": "Python 3.10.2 64-bit",
   "language": "python",
   "name": "python3"
  },
  "language_info": {
   "codemirror_mode": {
    "name": "ipython",
    "version": 3
   },
   "file_extension": ".py",
   "mimetype": "text/x-python",
   "name": "python",
   "nbconvert_exporter": "python",
   "pygments_lexer": "ipython3",
   "version": "3.10.5"
  },
  "orig_nbformat": 4,
  "vscode": {
   "interpreter": {
    "hash": "56448e655ed5d95789a2e6ea92153f0105532ee26cb5123f88d24b87d15ee80a"
   }
  }
 },
 "nbformat": 4,
 "nbformat_minor": 2
}
